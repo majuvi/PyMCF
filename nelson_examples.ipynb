{
 "cells": [
  {
   "cell_type": "markdown",
   "metadata": {},
   "source": [
    "# Python MCF package examples and results"
   ]
  },
  {
   "cell_type": "markdown",
   "metadata": {},
   "source": [
    "<img src=\"https://epubs.siam.org/na101/home/literatum/publisher/siam/books/content/sa/2003/1.9780898718454/1.9780898718454/production/1.9780898718454.cover.jpg\" width=\"100\"/> \n",
    "> To test my Python MCF package, I implemented all of the examples in the book \"Recurrent Events Data Analysis for Product Repairs, Disease Recurrences, and Other Applications\" by Wayne B. Nelson (https://epubs.siam.org/doi/book/10.1137/1.9780898718454?mobileUi=0&)."
   ]
  },
  {
   "cell_type": "markdown",
   "metadata": {},
   "source": [
    "This notebook replicates the output of running the MCF package on the following examples:"
   ]
  },
  {
   "cell_type": "code",
   "execution_count": 5,
   "metadata": {},
   "outputs": [
    {
     "data": {
      "text/html": [
       "<div>\n",
       "<style scoped>\n",
       "    .dataframe tbody tr th:only-of-type {\n",
       "        vertical-align: middle;\n",
       "    }\n",
       "\n",
       "    .dataframe tbody tr th {\n",
       "        vertical-align: top;\n",
       "    }\n",
       "\n",
       "    .dataframe thead th {\n",
       "        text-align: right;\n",
       "    }\n",
       "</style>\n",
       "<table border=\"1\" class=\"dataframe\">\n",
       "  <thead>\n",
       "    <tr style=\"text-align: right;\">\n",
       "      <th></th>\n",
       "      <th>Data set</th>\n",
       "      <th>Python file</th>\n",
       "      <th>Source</th>\n",
       "      <th>Sample?</th>\n",
       "      <th>Exact Age?</th>\n",
       "      <th>Cost?</th>\n",
       "      <th>Covariates?</th>\n",
       "      <th>Description</th>\n",
       "    </tr>\n",
       "  </thead>\n",
       "  <tbody>\n",
       "    <tr>\n",
       "      <th>0</th>\n",
       "      <td>Bladder Tumor</td>\n",
       "      <td>example_bladder.py</td>\n",
       "      <td>Byar (1980)</td>\n",
       "      <td>X</td>\n",
       "      <td>½</td>\n",
       "      <td></td>\n",
       "      <td>X</td>\n",
       "      <td>Byar's (1980) data on 87 recurrences of bladder cancer tumors in 48 patients receiving a placebo in a clinical study with two other treatments.</td>\n",
       "    </tr>\n",
       "    <tr>\n",
       "      <th>1</th>\n",
       "      <td>CGD</td>\n",
       "      <td>example_CGD.py</td>\n",
       "      <td>Fleming and Harrington (1991)</td>\n",
       "      <td>X</td>\n",
       "      <td>½</td>\n",
       "      <td></td>\n",
       "      <td>X</td>\n",
       "      <td>Fleming and Harrington's (1991) data on recurrences of serious infections in patients with chronic granulomatous disease (CGD) assigned to gamma interferon or placebo treatment.</td>\n",
       "    </tr>\n",
       "    <tr>\n",
       "      <th>2</th>\n",
       "      <td>Air Conditioner</td>\n",
       "      <td>example_proschan.py</td>\n",
       "      <td>Proschan (2000)</td>\n",
       "      <td>X</td>\n",
       "      <td>X</td>\n",
       "      <td></td>\n",
       "      <td></td>\n",
       "      <td>Proschan's (2000) data on the failure ages in running hours for 13 airplane air conditioner systems.</td>\n",
       "    </tr>\n",
       "    <tr>\n",
       "      <th>3</th>\n",
       "      <td>Transmission</td>\n",
       "      <td>example_transmission.py</td>\n",
       "      <td>Nelson (2003)</td>\n",
       "      <td>X</td>\n",
       "      <td>X</td>\n",
       "      <td></td>\n",
       "      <td>X</td>\n",
       "      <td>Nelson's (2003) data on a preproduction road test on a 1995 compact car at the Chrysler Proving Grounds.</td>\n",
       "    </tr>\n",
       "    <tr>\n",
       "      <th>4</th>\n",
       "      <td>Valve Seats</td>\n",
       "      <td>example_nelson1995.py</td>\n",
       "      <td>Nelson (1995)</td>\n",
       "      <td>X</td>\n",
       "      <td>½</td>\n",
       "      <td></td>\n",
       "      <td></td>\n",
       "      <td>Nelson's (1995) data on valve seat replacements on 41 locomotives running near Beijing.</td>\n",
       "    </tr>\n",
       "    <tr>\n",
       "      <th>5</th>\n",
       "      <td>Compressor Repair</td>\n",
       "      <td>example_compressor.py</td>\n",
       "      <td>Ross (1989)</td>\n",
       "      <td></td>\n",
       "      <td>X</td>\n",
       "      <td></td>\n",
       "      <td>X</td>\n",
       "      <td>Ross' (1989) data on 28 replacements of heat pump compressors under service contract in commercial buildings.</td>\n",
       "    </tr>\n",
       "    <tr>\n",
       "      <th>6</th>\n",
       "      <td>Child Birth</td>\n",
       "      <td>example_childbirth.py</td>\n",
       "      <td>Nelson (2003)</td>\n",
       "      <td></td>\n",
       "      <td></td>\n",
       "      <td></td>\n",
       "      <td>X</td>\n",
       "      <td>Nelson's (2003) data on childbirths collected from statisticians attending the author's short course on recurrence data analysis.</td>\n",
       "    </tr>\n",
       "    <tr>\n",
       "      <th>7</th>\n",
       "      <td>Defrost</td>\n",
       "      <td>example_defrost.py</td>\n",
       "      <td>Nelson (2003)</td>\n",
       "      <td></td>\n",
       "      <td></td>\n",
       "      <td></td>\n",
       "      <td></td>\n",
       "      <td>Nelson's (2003) data on replacements of defrost controls in refridgerators, where some service contracts were extended for months 1-12, 13-24, and 25-29.</td>\n",
       "    </tr>\n",
       "    <tr>\n",
       "      <th>8</th>\n",
       "      <td>Field Repair</td>\n",
       "      <td>example_fieldrepair.py</td>\n",
       "      <td>Cook (2008)</td>\n",
       "      <td>X</td>\n",
       "      <td>X</td>\n",
       "      <td>X</td>\n",
       "      <td></td>\n",
       "      <td>Cook (2008) defines a simulation method for data on unscheduled repairs for a fleet of 134 large utility vehicles operated by a city.</td>\n",
       "    </tr>\n",
       "    <tr>\n",
       "      <th>9</th>\n",
       "      <td>Fan Motor</td>\n",
       "      <td>example_fan.py</td>\n",
       "      <td>Nelson (2003)</td>\n",
       "      <td></td>\n",
       "      <td></td>\n",
       "      <td>X</td>\n",
       "      <td></td>\n",
       "      <td>Nelson's (2003) data on the repair cost of 119 residential heat pumps on a service contract that experienced 26 fan motor repairs.</td>\n",
       "    </tr>\n",
       "    <tr>\n",
       "      <th>10</th>\n",
       "      <td>Gearbox</td>\n",
       "      <td>example_gearboxes.py</td>\n",
       "      <td>Nelson (2003)</td>\n",
       "      <td></td>\n",
       "      <td></td>\n",
       "      <td>X</td>\n",
       "      <td>X</td>\n",
       "      <td>Nelson's (2003) data on dealer claims on replacements of power steering gearboxes in a fleet of 55,290 cars of a recent model. The data are collected to monitor and forecast claims.</td>\n",
       "    </tr>\n",
       "    <tr>\n",
       "      <th>11</th>\n",
       "      <td>Monetization</td>\n",
       "      <td>example_monetization.py</td>\n",
       "      <td></td>\n",
       "      <td>X</td>\n",
       "      <td>X</td>\n",
       "      <td>X</td>\n",
       "      <td></td>\n",
       "      <td>A simulation method that generates a data set of 300 players with sessions and purchases on a hypothetical mobile game.</td>\n",
       "    </tr>\n",
       "  </tbody>\n",
       "</table>\n",
       "</div>"
      ],
      "text/plain": [
       "             Data set              Python file                         Source  \\\n",
       "0   Bladder Tumor      example_bladder.py       Byar (1980)                     \n",
       "1   CGD                example_CGD.py           Fleming and Harrington (1991)   \n",
       "2   Air Conditioner    example_proschan.py      Proschan (2000)                 \n",
       "3   Transmission       example_transmission.py  Nelson (2003)                   \n",
       "4   Valve Seats        example_nelson1995.py    Nelson (1995)                   \n",
       "5   Compressor Repair  example_compressor.py    Ross (1989)                     \n",
       "6   Child Birth        example_childbirth.py    Nelson (2003)                   \n",
       "7   Defrost            example_defrost.py       Nelson (2003)                   \n",
       "8   Field Repair       example_fieldrepair.py   Cook (2008)                     \n",
       "9   Fan Motor          example_fan.py           Nelson (2003)                   \n",
       "10  Gearbox            example_gearboxes.py     Nelson (2003)                   \n",
       "11  Monetization       example_monetization.py                                  \n",
       "\n",
       "   Sample? Exact Age? Cost? Covariates?  \\\n",
       "0   X       ½                X            \n",
       "1   X       ½                X            \n",
       "2   X       X                             \n",
       "3   X       X                X            \n",
       "4   X       ½                             \n",
       "5           X                X            \n",
       "6                            X            \n",
       "7                                         \n",
       "8   X       X          X                  \n",
       "9                      X                  \n",
       "10                     X     X            \n",
       "11  X       X          X                  \n",
       "\n",
       "                                                                                                                                                                              Description  \n",
       "0   Byar's (1980) data on 87 recurrences of bladder cancer tumors in 48 patients receiving a placebo in a clinical study with two other treatments.                                        \n",
       "1   Fleming and Harrington's (1991) data on recurrences of serious infections in patients with chronic granulomatous disease (CGD) assigned to gamma interferon or placebo treatment.      \n",
       "2   Proschan's (2000) data on the failure ages in running hours for 13 airplane air conditioner systems.                                                                                   \n",
       "3   Nelson's (2003) data on a preproduction road test on a 1995 compact car at the Chrysler Proving Grounds.                                                                               \n",
       "4   Nelson's (1995) data on valve seat replacements on 41 locomotives running near Beijing.                                                                                                \n",
       "5   Ross' (1989) data on 28 replacements of heat pump compressors under service contract in commercial buildings.                                                                          \n",
       "6   Nelson's (2003) data on childbirths collected from statisticians attending the author's short course on recurrence data analysis.                                                      \n",
       "7   Nelson's (2003) data on replacements of defrost controls in refridgerators, where some service contracts were extended for months 1-12, 13-24, and 25-29.                              \n",
       "8   Cook (2008) defines a simulation method for data on unscheduled repairs for a fleet of 134 large utility vehicles operated by a city.                                                  \n",
       "9   Nelson's (2003) data on the repair cost of 119 residential heat pumps on a service contract that experienced 26 fan motor repairs.                                                     \n",
       "10  Nelson's (2003) data on dealer claims on replacements of power steering gearboxes in a fleet of 55,290 cars of a recent model. The data are collected to monitor and forecast claims.  \n",
       "11  A simulation method that generates a data set of 300 players with sessions and purchases on a hypothetical mobile game.                                                                "
      ]
     },
     "execution_count": 5,
     "metadata": {},
     "output_type": "execute_result"
    }
   ],
   "source": [
    "import pandas as pd\n",
    "pd.set_option('display.max_colwidth', -1)\n",
    "datas_description = pd.read_csv('datas_description.csv', sep=';').fillna('')\n",
    "datas_description"
   ]
  },
  {
   "cell_type": "markdown",
   "metadata": {},
   "source": [
    "## Valve Seats"
   ]
  },
  {
   "cell_type": "markdown",
   "metadata": {},
   "source": [
    "![](datas_results/example_nelson1995.png)"
   ]
  },
  {
   "cell_type": "markdown",
   "metadata": {},
   "source": [
    "## Air Conditioner"
   ]
  },
  {
   "cell_type": "markdown",
   "metadata": {},
   "source": [
    "![](datas_results/example_proschan.png)"
   ]
  },
  {
   "cell_type": "markdown",
   "metadata": {},
   "source": [
    "## Defrost"
   ]
  },
  {
   "cell_type": "markdown",
   "metadata": {},
   "source": [
    "![](datas_results/example_defrost_1.png)\n",
    "![](datas_results/example_defrost_2.png)"
   ]
  },
  {
   "cell_type": "markdown",
   "metadata": {},
   "source": [
    "## Childbirth"
   ]
  },
  {
   "cell_type": "markdown",
   "metadata": {},
   "source": [
    "![](datas_results/example_childbirth.png)\n",
    "p-value: 0.510"
   ]
  },
  {
   "cell_type": "markdown",
   "metadata": {},
   "source": [
    "## Transmission"
   ]
  },
  {
   "cell_type": "markdown",
   "metadata": {},
   "source": [
    "![](datas_results/example_transmission_1.png)\n",
    "![](datas_results/example_transmission_2.png)\n",
    "![](datas_results/example_transmission_3.png)\n",
    "p-values: 0.341 (robust 0.349)"
   ]
  },
  {
   "cell_type": "markdown",
   "metadata": {},
   "source": [
    "## Compressor"
   ]
  },
  {
   "cell_type": "markdown",
   "metadata": {},
   "source": [
    "![](datas_results/example_compressor_1.png)\n",
    "![](datas_results/example_compressor_2.png)\n"
   ]
  },
  {
   "cell_type": "markdown",
   "metadata": {},
   "source": [
    "## Bladder tumor"
   ]
  },
  {
   "cell_type": "markdown",
   "metadata": {},
   "source": [
    "![](datas_results/example_bladder_1.png)\n",
    "![](datas_results/example_bladder_2.png)\n",
    "![](datas_results/example_bladder_3.png)\n",
    "p-values: 0.028 / 0.024 (robust 0.140)\n",
    "\n",
    "![](datas_results/example_bladder_4.png)\n",
    "![](datas_results/example_bladder_5.png)\n",
    "p-values: 0.053 / 0.273 (robust 0.273)\n"
   ]
  },
  {
   "cell_type": "markdown",
   "metadata": {},
   "source": [
    "## CGD"
   ]
  },
  {
   "cell_type": "markdown",
   "metadata": {},
   "source": [
    "![](datas_results/example_CGD_1.png)\n",
    "![](datas_results/example_CGD_2.png)\n",
    "![](datas_results/example_CGD_3.png)\n",
    "p-values: 0.000 (robust 0.001)"
   ]
  },
  {
   "cell_type": "markdown",
   "metadata": {},
   "source": [
    "## Fan"
   ]
  },
  {
   "cell_type": "markdown",
   "metadata": {},
   "source": [
    "![](datas_results/example_fan_1.png)\n",
    "![](datas_results/example_fan_2.png)\n",
    "![](datas_results/example_fan_3.png)\n"
   ]
  },
  {
   "cell_type": "markdown",
   "metadata": {},
   "source": [
    "## Field Repair"
   ]
  },
  {
   "cell_type": "markdown",
   "metadata": {},
   "source": [
    "![](datas_results/example_fieldrepair_1.png)\n",
    "![](datas_results/example_fieldrepair_2.png)\n"
   ]
  },
  {
   "cell_type": "markdown",
   "metadata": {},
   "source": [
    "## Gearbox"
   ]
  },
  {
   "cell_type": "markdown",
   "metadata": {},
   "source": [
    "![](datas_results/example_gearboxes_1.png)\n",
    "![](datas_results/example_gearboxes_2.png)\n"
   ]
  },
  {
   "cell_type": "markdown",
   "metadata": {},
   "source": [
    "## Monetization"
   ]
  },
  {
   "cell_type": "markdown",
   "metadata": {},
   "source": [
    "![](datas_results/example_monetization.png)\n"
   ]
  },
  {
   "cell_type": "code",
   "execution_count": null,
   "metadata": {},
   "outputs": [],
   "source": []
  }
 ],
 "metadata": {
  "kernelspec": {
   "display_name": "Python 3",
   "language": "python",
   "name": "python3"
  },
  "language_info": {
   "codemirror_mode": {
    "name": "ipython",
    "version": 3
   },
   "file_extension": ".py",
   "mimetype": "text/x-python",
   "name": "python",
   "nbconvert_exporter": "python",
   "pygments_lexer": "ipython3",
   "version": "3.7.3"
  }
 },
 "nbformat": 4,
 "nbformat_minor": 2
}
