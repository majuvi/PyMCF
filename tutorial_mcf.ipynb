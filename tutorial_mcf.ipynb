{
 "cells": [
  {
   "cell_type": "markdown",
   "metadata": {},
   "source": [
    "# Python MCF tutorial\n",
    "<i> Authors: Markus Viljanen </i>"
   ]
  },
  {
   "cell_type": "markdown",
   "metadata": {},
   "source": [
    "In this tutorial we show how to estimate retention and monetization in censored data sets. We present five different scenarios where our method can be used: \n",
    "\n",
    "1. Simply calculating the number of sessions or purchases in a censored data set\n",
    "2. Comparing the number of purchases in two cohorts based on platform (ios/android)\n",
    "3. Using regression to compare 24 different cohorts based on platform/version/difficulty \n",
    "4. Extrapolating the number of purchases in a future version based on an old version \n",
    "5. Generalizing the method to real-valued costs such as Lifetime Value (LTV) instead of simply the number of purchases"
   ]
  },
  {
   "cell_type": "markdown",
   "metadata": {},
   "source": [
    "<p><b> Table of contents </b></p>\n",
    "<ul>\n",
    "  <li><a href='#imports'>Imports</a></li>\n",
    "  <li><a href='#motivation'>Motivation</a></li>\n",
    "  <li><a href='#calculating'>Calculating the number of sessions or purchases</a></li>\n",
    "  <li><a href='#comparison'>Comparison of number of purchases</a></li>\n",
    "  <li><a href='#regression'>Regression of the number of purchases</a></li>\n",
    "  <li><a href='#extrapolation'>Extrapolation of the number of purchases</a></li>\n",
    "  <li><a href='#ltv'>Calculating the total playtime or the lifetime value</a></li>\n",
    "</ul>"
   ]
  },
  {
   "cell_type": "markdown",
   "metadata": {},
   "source": [
    "<a id='imports'></a>"
   ]
  },
  {
   "cell_type": "markdown",
   "metadata": {},
   "source": [
    "## Imports"
   ]
  },
  {
   "cell_type": "code",
   "execution_count": 1,
   "metadata": {},
   "outputs": [],
   "source": [
    "import numpy as np\n",
    "import pandas as pd\n",
    "import scipy.stats as stats\n",
    "import matplotlib.pyplot as plt\n",
    "import matplotlib.gridspec as gridspec\n",
    "import ipywidgets as widgets\n",
    "from data_operations import transform_data, mcf, mcfcost, mcfdiff, mcfequal,\\\n",
    "    plot_data, plot_datas, plot_mcf, plot_mcfs, plot_mcfdiff, plot_mcfdiffs"
   ]
  },
  {
   "cell_type": "code",
   "execution_count": 2,
   "metadata": {},
   "outputs": [],
   "source": [
    "from scipy.stats import norm\n",
    "confidence = 0.95\n",
    "Z = norm.ppf((1.00 + confidence) / 2.0)"
   ]
  },
  {
   "cell_type": "markdown",
   "metadata": {},
   "source": [
    "<a id='motivation'></a>"
   ]
  },
  {
   "cell_type": "markdown",
   "metadata": {},
   "source": [
    "## Motivation"
   ]
  },
  {
   "cell_type": "markdown",
   "metadata": {},
   "source": [
    "This small helper function is used to plot a single timeline of sessions or purchases:"
   ]
  },
  {
   "cell_type": "code",
   "execution_count": 3,
   "metadata": {},
   "outputs": [],
   "source": [
    "def plot_timeline(events, title='Events', marker='o'):\n",
    "    plt.figure(figsize=(5, 1))\n",
    "    plt.text(0,1,'Player    ', horizontalalignment='right', verticalalignment='center')\n",
    "    plt.scatter(events['Time'], events['Sample'], s=events['Cost']*40, marker=marker, color='black')\n",
    "    for i, event in events.iterrows():\n",
    "        plt.annotate(u\"%.2f\" % event['Cost'], (event['Time']+.02, event['Sample']+.02))\n",
    "    plt.text(180,1,u'    Total %.2f' % events['Cost'].sum(), horizontalalignment='left', verticalalignment='center')\n",
    "    plt.hlines(1, 0, 180, color='black', alpha=0.2)\n",
    "    plt.title(title)\n",
    "    plt.axis('off')"
   ]
  },
  {
   "cell_type": "markdown",
   "metadata": {},
   "source": [
    "Monetization is measured by tracking the purchases of players. A player makes some purchases until they churn out of the game, and the total amount of money they brought in is their Lifetime Value (LTV). This is probably the single most important metric, because the profit is difference between their Lifetime Value and acquisiton cost. For example, in the below figure a player makes 4 purchases that total 7€, so if it costs 2€ to acquire the player through advertisements, we make 5€. "
   ]
  },
  {
   "cell_type": "code",
   "execution_count": 4,
   "metadata": {},
   "outputs": [
    {
     "data": {
      "image/png": "[encoded data removed]",
      "text/plain": [
       "<Figure size 360x72 with 1 Axes>"
      ]
     },
     "metadata": {
      "needs_background": "light"
     },
     "output_type": "display_data"
    }
   ],
   "source": [
    "purchases = pd.DataFrame({'Sample': 1, 'Time': [1, 25, 60, 90], 'Cost': [1.0, 4.0, 1.0, 1.0]})\n",
    "plot_timeline(purchases, title='Purchases', marker='*')"
   ]
  },
  {
   "cell_type": "markdown",
   "metadata": {},
   "source": [
    "Retention is measured by tracking the activity of players. It is important to know that the players are enjoying the game, and several metrics measure how long the players play. This can also be an important proxy variable of how much potential there is to monetize if the monetization is based on advertisements or is not yet fully implemented. Perhaps the most complete measure is the total playtime per player. In the below figure, a player has 6 sessions with the total playtime of 3.05 hours\n",
    "\n",
    "\n"
   ]
  },
  {
   "cell_type": "code",
   "execution_count": 5,
   "metadata": {},
   "outputs": [
    {
     "data": {
      "image/png": "[encoded data removed]",
      "text/plain": [
       "<Figure size 360x72 with 1 Axes>"
      ]
     },
     "metadata": {
      "needs_background": "light"
     },
     "output_type": "display_data"
    }
   ],
   "source": [
    "sessions = pd.DataFrame({'Sample': 1, 'Time': [1, 20, 38, 55, 95, 115,], 'Cost': [1.50, 0.65, 0.25, 0.40, 0.15, 0.10]})\n",
    "plot_timeline(sessions, title='Sessions', marker='o')"
   ]
  },
  {
   "cell_type": "markdown",
   "metadata": {},
   "source": [
    "The 'data.ipynb' notebook was used to generate the data sets. For more information about the data generation process, please see the notebook. Because the data sets were generated, we know the 'true' answers and can visualize both the estimates and the actual values. The sessions or purchases were generated with a session rate or a purchase rate $\\lambda$ and a churn rate $\\mu$. Each session has a duration or purchase has an amount, which is modelled as a random variable $C$ with the expectation $E[C]$.\n",
    "\n",
    "The expected number of sessions or purchases at a given follow-up time $t$ is then given by:\n",
    "$$E[N(t)] = \\frac{\\lambda}{\\mu}(1 - \\text{exp}(-\\mu t))$$\n",
    "The expected session duration or purchase amount is $E[C(t)] = E[C]E[N(t)]$\n"
   ]
  },
  {
   "cell_type": "code",
   "execution_count": 6,
   "metadata": {},
   "outputs": [],
   "source": [
    "max_date, play_rate, purchase_rate, churn_rate, mean_playtime, mean_purchase = 180, 0.1, 0.004, 0.02, 0.25, 2.00\n",
    "T = np.linspace(0, max_date, 100)\n",
    "E_N = lambda T, rate, churn_rate : rate / churn_rate * (1 - np.exp(-churn_rate*T))\n",
    "LTV = lambda T, rate, churn_rate, mean : mean * rate / churn_rate * (1 - np.exp(-churn_rate*T))"
   ]
  },
  {
   "cell_type": "code",
   "execution_count": null,
   "metadata": {},
   "outputs": [],
   "source": [
    "<a id='calculating'></a>"
   ]
  },
  {
   "cell_type": "markdown",
   "metadata": {},
   "source": [
    "## Calculating the number of sessions or purchases"
   ]
  },
  {
   "cell_type": "markdown",
   "metadata": {},
   "source": [
    "First we are going to load two basic data sets for sessions and purchases:"
   ]
  },
  {
   "cell_type": "code",
   "execution_count": 7,
   "metadata": {},
   "outputs": [],
   "source": [
    "data_sessions = pd.read_csv('tutorial/sessions.csv')\n",
    "data_purchases = pd.read_csv('tutorial/purchases.csv')"
   ]
  },
  {
   "cell_type": "markdown",
   "metadata": {},
   "source": [
    "The data sets consists of (Sample, Time, Event, Cost) rows:\n",
    "* 'Sample' is the player id\n",
    "* 'Time' is the event time\n",
    "* 'Event' = 1 means the event was a session/purchase\n",
    "* 'Event' = 0 means the event was the end of follow-up\n",
    "* 'Cost' is the sesssion duration or purchase amount"
   ]
  },
  {
   "cell_type": "code",
   "execution_count": 8,
   "metadata": {},
   "outputs": [
    {
     "data": {
      "text/html": [
       "<div>\n",
       "<style scoped>\n",
       "    .dataframe tbody tr th:only-of-type {\n",
       "        vertical-align: middle;\n",
       "    }\n",
       "\n",
       "    .dataframe tbody tr th {\n",
       "        vertical-align: top;\n",
       "    }\n",
       "\n",
       "    .dataframe thead th {\n",
       "        text-align: right;\n",
       "    }\n",
       "</style>\n",
       "<table border=\"1\" class=\"dataframe\">\n",
       "  <thead>\n",
       "    <tr style=\"text-align: right;\">\n",
       "      <th></th>\n",
       "      <th>Sample</th>\n",
       "      <th>Time</th>\n",
       "      <th>Event</th>\n",
       "      <th>Cost</th>\n",
       "    </tr>\n",
       "  </thead>\n",
       "  <tbody>\n",
       "    <tr>\n",
       "      <th>0</th>\n",
       "      <td>1</td>\n",
       "      <td>136.177888</td>\n",
       "      <td>0</td>\n",
       "      <td>0.000000</td>\n",
       "    </tr>\n",
       "    <tr>\n",
       "      <th>1</th>\n",
       "      <td>2</td>\n",
       "      <td>16.412515</td>\n",
       "      <td>1</td>\n",
       "      <td>0.231831</td>\n",
       "    </tr>\n",
       "    <tr>\n",
       "      <th>2</th>\n",
       "      <td>2</td>\n",
       "      <td>107.428863</td>\n",
       "      <td>0</td>\n",
       "      <td>0.000000</td>\n",
       "    </tr>\n",
       "    <tr>\n",
       "      <th>3</th>\n",
       "      <td>3</td>\n",
       "      <td>0.062728</td>\n",
       "      <td>1</td>\n",
       "      <td>0.253390</td>\n",
       "    </tr>\n",
       "    <tr>\n",
       "      <th>4</th>\n",
       "      <td>3</td>\n",
       "      <td>2.101880</td>\n",
       "      <td>1</td>\n",
       "      <td>0.154260</td>\n",
       "    </tr>\n",
       "  </tbody>\n",
       "</table>\n",
       "</div>"
      ],
      "text/plain": [
       "   Sample        Time  Event      Cost\n",
       "0       1  136.177888      0  0.000000\n",
       "1       2   16.412515      1  0.231831\n",
       "2       2  107.428863      0  0.000000\n",
       "3       3    0.062728      1  0.253390\n",
       "4       3    2.101880      1  0.154260"
      ]
     },
     "execution_count": 8,
     "metadata": {},
     "output_type": "execute_result"
    }
   ],
   "source": [
    "data_sessions.head()"
   ]
  },
  {
   "cell_type": "code",
   "execution_count": 9,
   "metadata": {},
   "outputs": [
    {
     "data": {
      "text/html": [
       "<div>\n",
       "<style scoped>\n",
       "    .dataframe tbody tr th:only-of-type {\n",
       "        vertical-align: middle;\n",
       "    }\n",
       "\n",
       "    .dataframe tbody tr th {\n",
       "        vertical-align: top;\n",
       "    }\n",
       "\n",
       "    .dataframe thead th {\n",
       "        text-align: right;\n",
       "    }\n",
       "</style>\n",
       "<table border=\"1\" class=\"dataframe\">\n",
       "  <thead>\n",
       "    <tr style=\"text-align: right;\">\n",
       "      <th></th>\n",
       "      <th>Sample</th>\n",
       "      <th>Time</th>\n",
       "      <th>Event</th>\n",
       "      <th>Cost</th>\n",
       "    </tr>\n",
       "  </thead>\n",
       "  <tbody>\n",
       "    <tr>\n",
       "      <th>0</th>\n",
       "      <td>1</td>\n",
       "      <td>136.177888</td>\n",
       "      <td>0</td>\n",
       "      <td>0.0</td>\n",
       "    </tr>\n",
       "    <tr>\n",
       "      <th>1</th>\n",
       "      <td>2</td>\n",
       "      <td>107.428863</td>\n",
       "      <td>0</td>\n",
       "      <td>0.0</td>\n",
       "    </tr>\n",
       "    <tr>\n",
       "      <th>2</th>\n",
       "      <td>3</td>\n",
       "      <td>89.585053</td>\n",
       "      <td>0</td>\n",
       "      <td>0.0</td>\n",
       "    </tr>\n",
       "    <tr>\n",
       "      <th>3</th>\n",
       "      <td>4</td>\n",
       "      <td>36.305943</td>\n",
       "      <td>0</td>\n",
       "      <td>0.0</td>\n",
       "    </tr>\n",
       "    <tr>\n",
       "      <th>4</th>\n",
       "      <td>5</td>\n",
       "      <td>22.274569</td>\n",
       "      <td>1</td>\n",
       "      <td>4.0</td>\n",
       "    </tr>\n",
       "  </tbody>\n",
       "</table>\n",
       "</div>"
      ],
      "text/plain": [
       "   Sample        Time  Event  Cost\n",
       "0       1  136.177888      0   0.0\n",
       "1       2  107.428863      0   0.0\n",
       "2       3   89.585053      0   0.0\n",
       "3       4   36.305943      0   0.0\n",
       "4       5   22.274569      1   4.0"
      ]
     },
     "execution_count": 9,
     "metadata": {},
     "output_type": "execute_result"
    }
   ],
   "source": [
    "data_purchases.head()"
   ]
  },
  {
   "cell_type": "markdown",
   "metadata": {},
   "source": [
    "Lets plot the data first. We can use a simple plotting function after we transform the data into a 'counting process' format:"
   ]
  },
  {
   "cell_type": "code",
   "execution_count": 10,
   "metadata": {},
   "outputs": [
    {
     "data": {
      "text/plain": [
       "<matplotlib.axes._subplots.AxesSubplot at 0xcaec198>"
      ]
     },
     "execution_count": 10,
     "metadata": {},
     "output_type": "execute_result"
    },
    {
     "data": {
      "image/png": "[encoded data removed]",
      "text/plain": [
       "<Figure size 432x288 with 1 Axes>"
      ]
     },
     "metadata": {
      "needs_background": "light"
     },
     "output_type": "display_data"
    }
   ],
   "source": [
    "df_sessions = transform_data(data_sessions)\n",
    "df_purchases = transform_data(data_purchases)\n",
    "\n",
    "fig, ax = plt.subplots(1,1)\n",
    "plot_data(df_sessions, ax=ax, marker='.', plot_costs=False, label='Session', alpha=0.2)\n",
    "plot_data(df_purchases, ax=ax, marker='*', plot_costs=False, label='Purchase', alpha=0.2)"
   ]
  },
  {
   "cell_type": "markdown",
   "metadata": {},
   "source": [
    "We would now like to estimate how many sessions or purchases the players do. However, we cannot simply take the average over players because the follow-up is limited and some players have been followed for longer than others. The Mean Cumulative Function (MCF) can be used to measure monetization and retention censored data sets. \n",
    "\n",
    "Lets calculate the expected number of sessions $E[N]$ as a function of follow-up time:"
   ]
  },
  {
   "cell_type": "code",
   "execution_count": 11,
   "metadata": {},
   "outputs": [
    {
     "data": {
      "text/html": [
       "<div>\n",
       "<style scoped>\n",
       "    .dataframe tbody tr th:only-of-type {\n",
       "        vertical-align: middle;\n",
       "    }\n",
       "\n",
       "    .dataframe tbody tr th {\n",
       "        vertical-align: top;\n",
       "    }\n",
       "\n",
       "    .dataframe thead th {\n",
       "        text-align: right;\n",
       "    }\n",
       "</style>\n",
       "<table border=\"1\" class=\"dataframe\">\n",
       "  <thead>\n",
       "    <tr style=\"text-align: right;\">\n",
       "      <th></th>\n",
       "      <th>Time</th>\n",
       "      <th>dN</th>\n",
       "      <th>dY</th>\n",
       "      <th>N</th>\n",
       "      <th>Y</th>\n",
       "      <th>dE[N]</th>\n",
       "      <th>E[N]</th>\n",
       "      <th>E[N].Var</th>\n",
       "      <th>E[N].ucl</th>\n",
       "      <th>E[N].lcl</th>\n",
       "    </tr>\n",
       "  </thead>\n",
       "  <tbody>\n",
       "    <tr>\n",
       "      <th>0</th>\n",
       "      <td>0.000000</td>\n",
       "      <td>0</td>\n",
       "      <td>100</td>\n",
       "      <td>0</td>\n",
       "      <td>0.0</td>\n",
       "      <td>0.00</td>\n",
       "      <td>0.00</td>\n",
       "      <td>0.000000</td>\n",
       "      <td>0.000000</td>\n",
       "      <td>0.000000</td>\n",
       "    </tr>\n",
       "    <tr>\n",
       "      <th>1</th>\n",
       "      <td>0.002226</td>\n",
       "      <td>1</td>\n",
       "      <td>0</td>\n",
       "      <td>1</td>\n",
       "      <td>100.0</td>\n",
       "      <td>0.01</td>\n",
       "      <td>0.01</td>\n",
       "      <td>0.000099</td>\n",
       "      <td>0.070297</td>\n",
       "      <td>0.001423</td>\n",
       "    </tr>\n",
       "    <tr>\n",
       "      <th>2</th>\n",
       "      <td>0.062728</td>\n",
       "      <td>1</td>\n",
       "      <td>0</td>\n",
       "      <td>2</td>\n",
       "      <td>100.0</td>\n",
       "      <td>0.01</td>\n",
       "      <td>0.02</td>\n",
       "      <td>0.000196</td>\n",
       "      <td>0.078863</td>\n",
       "      <td>0.005072</td>\n",
       "    </tr>\n",
       "    <tr>\n",
       "      <th>3</th>\n",
       "      <td>0.139117</td>\n",
       "      <td>1</td>\n",
       "      <td>0</td>\n",
       "      <td>3</td>\n",
       "      <td>100.0</td>\n",
       "      <td>0.01</td>\n",
       "      <td>0.03</td>\n",
       "      <td>0.000291</td>\n",
       "      <td>0.091440</td>\n",
       "      <td>0.009843</td>\n",
       "    </tr>\n",
       "    <tr>\n",
       "      <th>4</th>\n",
       "      <td>0.158762</td>\n",
       "      <td>1</td>\n",
       "      <td>0</td>\n",
       "      <td>4</td>\n",
       "      <td>100.0</td>\n",
       "      <td>0.01</td>\n",
       "      <td>0.04</td>\n",
       "      <td>0.000384</td>\n",
       "      <td>0.104487</td>\n",
       "      <td>0.015313</td>\n",
       "    </tr>\n",
       "  </tbody>\n",
       "</table>\n",
       "</div>"
      ],
      "text/plain": [
       "       Time  dN   dY  N      Y  dE[N]  E[N]  E[N].Var  E[N].ucl  E[N].lcl\n",
       "0  0.000000   0  100  0    0.0   0.00  0.00  0.000000  0.000000  0.000000\n",
       "1  0.002226   1    0  1  100.0   0.01  0.01  0.000099  0.070297  0.001423\n",
       "2  0.062728   1    0  2  100.0   0.01  0.02  0.000196  0.078863  0.005072\n",
       "3  0.139117   1    0  3  100.0   0.01  0.03  0.000291  0.091440  0.009843\n",
       "4  0.158762   1    0  4  100.0   0.01  0.04  0.000384  0.104487  0.015313"
      ]
     },
     "execution_count": 11,
     "metadata": {},
     "output_type": "execute_result"
    }
   ],
   "source": [
    "mcf_sessions = mcf(df_sessions, robust=True, positive=True)\n",
    "mcf_sessions.head()"
   ]
  },
  {
   "cell_type": "markdown",
   "metadata": {},
   "source": [
    "We can use a simple plotting function to visualize the resuls:"
   ]
  },
  {
   "cell_type": "code",
   "execution_count": 12,
   "metadata": {},
   "outputs": [
    {
     "data": {
      "text/plain": [
       "(0, 8)"
      ]
     },
     "execution_count": 12,
     "metadata": {},
     "output_type": "execute_result"
    },
    {
     "data": {
      "image/png": "[encoded data removed]",
      "text/plain": [
       "<Figure size 432x288 with 1 Axes>"
      ]
     },
     "metadata": {
      "needs_background": "light"
     },
     "output_type": "display_data"
    }
   ],
   "source": [
    "fig, ax = plt.subplots(1,1)\n",
    "ax.plot(T, E_N(T, play_rate, churn_rate), linestyle='-', alpha=0.5, color='black', label='Sessions (true)')\n",
    "plot_mcf(mcf_sessions, ax=ax, marker='.', label='Sessions (MCF)')\n",
    "ax.set_ylim(0,8)"
   ]
  },
  {
   "cell_type": "markdown",
   "metadata": {},
   "source": [
    "Lets calculate the expected number of purchases $E[N]$ as a function of follow-up time:"
   ]
  },
  {
   "cell_type": "code",
   "execution_count": 13,
   "metadata": {},
   "outputs": [
    {
     "data": {
      "text/html": [
       "<div>\n",
       "<style scoped>\n",
       "    .dataframe tbody tr th:only-of-type {\n",
       "        vertical-align: middle;\n",
       "    }\n",
       "\n",
       "    .dataframe tbody tr th {\n",
       "        vertical-align: top;\n",
       "    }\n",
       "\n",
       "    .dataframe thead th {\n",
       "        text-align: right;\n",
       "    }\n",
       "</style>\n",
       "<table border=\"1\" class=\"dataframe\">\n",
       "  <thead>\n",
       "    <tr style=\"text-align: right;\">\n",
       "      <th></th>\n",
       "      <th>Time</th>\n",
       "      <th>dN</th>\n",
       "      <th>dY</th>\n",
       "      <th>N</th>\n",
       "      <th>Y</th>\n",
       "      <th>dE[N]</th>\n",
       "      <th>E[N]</th>\n",
       "      <th>E[N].Var</th>\n",
       "      <th>E[N].ucl</th>\n",
       "      <th>E[N].lcl</th>\n",
       "    </tr>\n",
       "  </thead>\n",
       "  <tbody>\n",
       "    <tr>\n",
       "      <th>0</th>\n",
       "      <td>0.000000</td>\n",
       "      <td>0</td>\n",
       "      <td>100</td>\n",
       "      <td>0</td>\n",
       "      <td>0.0</td>\n",
       "      <td>0.000000</td>\n",
       "      <td>0.000000</td>\n",
       "      <td>0.000000</td>\n",
       "      <td>0.000000</td>\n",
       "      <td>0.000000</td>\n",
       "    </tr>\n",
       "    <tr>\n",
       "      <th>1</th>\n",
       "      <td>0.458748</td>\n",
       "      <td>0</td>\n",
       "      <td>-1</td>\n",
       "      <td>0</td>\n",
       "      <td>100.0</td>\n",
       "      <td>0.000000</td>\n",
       "      <td>0.000000</td>\n",
       "      <td>0.000000</td>\n",
       "      <td>0.000000</td>\n",
       "      <td>0.000000</td>\n",
       "    </tr>\n",
       "    <tr>\n",
       "      <th>2</th>\n",
       "      <td>1.822383</td>\n",
       "      <td>1</td>\n",
       "      <td>0</td>\n",
       "      <td>1</td>\n",
       "      <td>99.0</td>\n",
       "      <td>0.010101</td>\n",
       "      <td>0.010101</td>\n",
       "      <td>0.000101</td>\n",
       "      <td>0.071000</td>\n",
       "      <td>0.001437</td>\n",
       "    </tr>\n",
       "    <tr>\n",
       "      <th>3</th>\n",
       "      <td>1.930503</td>\n",
       "      <td>0</td>\n",
       "      <td>-1</td>\n",
       "      <td>1</td>\n",
       "      <td>99.0</td>\n",
       "      <td>0.000000</td>\n",
       "      <td>0.010101</td>\n",
       "      <td>0.000101</td>\n",
       "      <td>0.071000</td>\n",
       "      <td>0.001437</td>\n",
       "    </tr>\n",
       "    <tr>\n",
       "      <th>4</th>\n",
       "      <td>2.272173</td>\n",
       "      <td>1</td>\n",
       "      <td>0</td>\n",
       "      <td>2</td>\n",
       "      <td>98.0</td>\n",
       "      <td>0.010204</td>\n",
       "      <td>0.020305</td>\n",
       "      <td>0.000202</td>\n",
       "      <td>0.080047</td>\n",
       "      <td>0.005151</td>\n",
       "    </tr>\n",
       "  </tbody>\n",
       "</table>\n",
       "</div>"
      ],
      "text/plain": [
       "       Time  dN   dY  N      Y     dE[N]      E[N]  E[N].Var  E[N].ucl  \\\n",
       "0  0.000000   0  100  0    0.0  0.000000  0.000000  0.000000  0.000000   \n",
       "1  0.458748   0   -1  0  100.0  0.000000  0.000000  0.000000  0.000000   \n",
       "2  1.822383   1    0  1   99.0  0.010101  0.010101  0.000101  0.071000   \n",
       "3  1.930503   0   -1  1   99.0  0.000000  0.010101  0.000101  0.071000   \n",
       "4  2.272173   1    0  2   98.0  0.010204  0.020305  0.000202  0.080047   \n",
       "\n",
       "   E[N].lcl  \n",
       "0  0.000000  \n",
       "1  0.000000  \n",
       "2  0.001437  \n",
       "3  0.001437  \n",
       "4  0.005151  "
      ]
     },
     "execution_count": 13,
     "metadata": {},
     "output_type": "execute_result"
    }
   ],
   "source": [
    "mcf_purchases = mcf(df_purchases, robust=True, positive=True)\n",
    "mcf_purchases.head()"
   ]
  },
  {
   "cell_type": "code",
   "execution_count": 14,
   "metadata": {},
   "outputs": [
    {
     "data": {
      "text/plain": [
       "(0.0, 0.4)"
      ]
     },
     "execution_count": 14,
     "metadata": {},
     "output_type": "execute_result"
    },
    {
     "data": {
      "image/png": "[encoded data removed]",
      "text/plain": [
       "<Figure size 432x288 with 1 Axes>"
      ]
     },
     "metadata": {
      "needs_background": "light"
     },
     "output_type": "display_data"
    }
   ],
   "source": [
    "fig, ax = plt.subplots(1,1)\n",
    "ax.plot(T, E_N(T, purchase_rate, churn_rate), linestyle='-', alpha=0.5, color='black', label='Purchases (true)')\n",
    "plot_mcf(mcf_purchases, ax=ax, marker='*', label='Purchases (mcf)')\n",
    "ax.set_ylim(0.00,0.40)"
   ]
  },
  {
   "cell_type": "markdown",
   "metadata": {},
   "source": [
    "<a id='comparison'></a>"
   ]
  },
  {
   "cell_type": "markdown",
   "metadata": {},
   "source": [
    "## Comparison of number of purchases"
   ]
  },
  {
   "cell_type": "markdown",
   "metadata": {},
   "source": [
    "In the second example, we load a data set to compare players:"
   ]
  },
  {
   "cell_type": "code",
   "execution_count": 15,
   "metadata": {},
   "outputs": [
    {
     "data": {
      "text/html": [
       "<div>\n",
       "<style scoped>\n",
       "    .dataframe tbody tr th:only-of-type {\n",
       "        vertical-align: middle;\n",
       "    }\n",
       "\n",
       "    .dataframe tbody tr th {\n",
       "        vertical-align: top;\n",
       "    }\n",
       "\n",
       "    .dataframe thead th {\n",
       "        text-align: right;\n",
       "    }\n",
       "</style>\n",
       "<table border=\"1\" class=\"dataframe\">\n",
       "  <thead>\n",
       "    <tr style=\"text-align: right;\">\n",
       "      <th></th>\n",
       "      <th>Sample</th>\n",
       "      <th>Time</th>\n",
       "      <th>Time_prev</th>\n",
       "      <th>Event</th>\n",
       "      <th>Cost</th>\n",
       "      <th>Platform</th>\n",
       "    </tr>\n",
       "  </thead>\n",
       "  <tbody>\n",
       "    <tr>\n",
       "      <th>0</th>\n",
       "      <td>1</td>\n",
       "      <td>120.799234</td>\n",
       "      <td>0.0</td>\n",
       "      <td>0</td>\n",
       "      <td>0.0</td>\n",
       "      <td>ios</td>\n",
       "    </tr>\n",
       "    <tr>\n",
       "      <th>1</th>\n",
       "      <td>2</td>\n",
       "      <td>175.807277</td>\n",
       "      <td>0.0</td>\n",
       "      <td>0</td>\n",
       "      <td>0.0</td>\n",
       "      <td>ios</td>\n",
       "    </tr>\n",
       "    <tr>\n",
       "      <th>2</th>\n",
       "      <td>3</td>\n",
       "      <td>135.025952</td>\n",
       "      <td>0.0</td>\n",
       "      <td>0</td>\n",
       "      <td>0.0</td>\n",
       "      <td>ios</td>\n",
       "    </tr>\n",
       "    <tr>\n",
       "      <th>3</th>\n",
       "      <td>4</td>\n",
       "      <td>166.043003</td>\n",
       "      <td>0.0</td>\n",
       "      <td>0</td>\n",
       "      <td>0.0</td>\n",
       "      <td>ios</td>\n",
       "    </tr>\n",
       "    <tr>\n",
       "      <th>4</th>\n",
       "      <td>5</td>\n",
       "      <td>25.205394</td>\n",
       "      <td>0.0</td>\n",
       "      <td>0</td>\n",
       "      <td>0.0</td>\n",
       "      <td>ios</td>\n",
       "    </tr>\n",
       "  </tbody>\n",
       "</table>\n",
       "</div>"
      ],
      "text/plain": [
       "   Sample        Time  Time_prev  Event  Cost Platform\n",
       "0       1  120.799234        0.0      0   0.0      ios\n",
       "1       2  175.807277        0.0      0   0.0      ios\n",
       "2       3  135.025952        0.0      0   0.0      ios\n",
       "3       4  166.043003        0.0      0   0.0      ios\n",
       "4       5   25.205394        0.0      0   0.0      ios"
      ]
     },
     "execution_count": 15,
     "metadata": {},
     "output_type": "execute_result"
    }
   ],
   "source": [
    "data_purchases = pd.read_csv('tutorial/purchases_compare.csv')\n",
    "data_purchases.head()"
   ]
  },
  {
   "cell_type": "markdown",
   "metadata": {},
   "source": [
    "This data set has an extra 'Platform' column. It looks like there are 'android' and 'ios' platforms with 100 players each:"
   ]
  },
  {
   "cell_type": "code",
   "execution_count": 16,
   "metadata": {},
   "outputs": [
    {
     "data": {
      "text/plain": [
       "Platform\n",
       "android    100\n",
       "ios        100\n",
       "Name: Sample, dtype: int64"
      ]
     },
     "execution_count": 16,
     "metadata": {},
     "output_type": "execute_result"
    }
   ],
   "source": [
    "data_purchases.groupby('Platform')['Sample'].agg(lambda s: len(s.unique()))"
   ]
  },
  {
   "cell_type": "markdown",
   "metadata": {},
   "source": [
    "Lets first plot the data to understand it better. It looks like 'ios' might have more purchases than 'android':"
   ]
  },
  {
   "cell_type": "code",
   "execution_count": 17,
   "metadata": {},
   "outputs": [
    {
     "data": {
      "text/plain": [
       "<matplotlib.axes._subplots.AxesSubplot at 0xcfdff60>"
      ]
     },
     "execution_count": 17,
     "metadata": {},
     "output_type": "execute_result"
    },
    {
     "data": {
      "image/png": "[encoded data removed]",
      "text/plain": [
       "<Figure size 432x288 with 1 Axes>"
      ]
     },
     "metadata": {
      "needs_background": "light"
     },
     "output_type": "display_data"
    }
   ],
   "source": [
    "df_purchases = transform_data(data_purchases)\n",
    "df_android = df_purchases[df_purchases['Platform'] == 'android']\n",
    "df_ios = df_purchases[df_purchases['Platform'] == 'ios']\n",
    "\n",
    "fig, ax = plt.subplots(1,1)\n",
    "plot_datas([('android', df_android), ('ios', df_ios)], ax=ax, alpha=0.2)"
   ]
  },
  {
   "cell_type": "markdown",
   "metadata": {},
   "source": [
    "We can plot the MCF of both 'android' and 'ios' to compare them. It looks like there will be 0.25 purchases in ios and 0.08 purchases in android:"
   ]
  },
  {
   "cell_type": "code",
   "execution_count": 18,
   "metadata": {},
   "outputs": [
    {
     "data": {
      "text/plain": [
       "(0.0, 0.4)"
      ]
     },
     "execution_count": 18,
     "metadata": {},
     "output_type": "execute_result"
    },
    {
     "data": {
      "image/png": "[encoded data removed]",
      "text/plain": [
       "<Figure size 432x288 with 1 Axes>"
      ]
     },
     "metadata": {
      "needs_background": "light"
     },
     "output_type": "display_data"
    }
   ],
   "source": [
    "mcf_android = mcf(df_android, robust=True, positive=True)\n",
    "mcf_ios = mcf(df_ios, robust=True, positive=True)\n",
    "\n",
    "fig, ax = plt.subplots(1,1)\n",
    "plot_mcfs([('android', mcf_android), ('ios', mcf_ios)], ax=ax)\n",
    "ax.set_ylim(0.00,0.40)"
   ]
  },
  {
   "cell_type": "markdown",
   "metadata": {},
   "source": [
    "A simple function mcfdiff can be used to compare the two mcf curves. It looks like ios has 0.17 more purchases than android:"
   ]
  },
  {
   "cell_type": "code",
   "execution_count": 19,
   "metadata": {},
   "outputs": [
    {
     "data": {
      "text/plain": [
       "(0.0, 0.4)"
      ]
     },
     "execution_count": 19,
     "metadata": {},
     "output_type": "execute_result"
    },
    {
     "data": {
      "image/png": "[encoded data removed]",
      "text/plain": [
       "<Figure size 432x288 with 1 Axes>"
      ]
     },
     "metadata": {
      "needs_background": "light"
     },
     "output_type": "display_data"
    }
   ],
   "source": [
    "mcf_diff = mcfdiff(mcf_ios, mcf_android)\n",
    "\n",
    "fig, ax = plt.subplots(1,1)\n",
    "plot_mcfdiff(mcf_diff, ax=ax, label='%s vs. %s' % ('ios', 'android'))\n",
    "ax.set_ylim(0.00,0.40)"
   ]
  },
  {
   "cell_type": "markdown",
   "metadata": {},
   "source": [
    "The comparison indicates that the difference is statistically significant, because the confidence intervals do not contain zero. However, this comparison is pointwise, meaning that it measures the difference at a given time point. A simple function mcfequal can be used to test the null hypothesis that the mcf curves are equal. We obtain a p-value that provides strong evidence against this hypothesis:"
   ]
  },
  {
   "cell_type": "code",
   "execution_count": 20,
   "metadata": {},
   "outputs": [
    {
     "name": "stdout",
     "output_type": "stream",
     "text": [
      "p-value: 0.142\n"
     ]
    }
   ],
   "source": [
    "p_value = mcfequal(df_ios, df_android, robust=True)\n",
    "print \"p-value: %.3f\" % (p_value)"
   ]
  },
  {
   "cell_type": "markdown",
   "metadata": {},
   "source": [
    "<a id='regression'></a>"
   ]
  },
  {
   "cell_type": "markdown",
   "metadata": {},
   "source": [
    "## Regression of the number of purchases"
   ]
  },
  {
   "cell_type": "markdown",
   "metadata": {},
   "source": [
    "In the third example, we load a data set to compare players with many different features:"
   ]
  },
  {
   "cell_type": "code",
   "execution_count": 21,
   "metadata": {},
   "outputs": [
    {
     "data": {
      "text/html": [
       "<div>\n",
       "<style scoped>\n",
       "    .dataframe tbody tr th:only-of-type {\n",
       "        vertical-align: middle;\n",
       "    }\n",
       "\n",
       "    .dataframe tbody tr th {\n",
       "        vertical-align: top;\n",
       "    }\n",
       "\n",
       "    .dataframe thead th {\n",
       "        text-align: right;\n",
       "    }\n",
       "</style>\n",
       "<table border=\"1\" class=\"dataframe\">\n",
       "  <thead>\n",
       "    <tr style=\"text-align: right;\">\n",
       "      <th></th>\n",
       "      <th>Sample</th>\n",
       "      <th>Time</th>\n",
       "      <th>Time_prev</th>\n",
       "      <th>Event</th>\n",
       "      <th>Cost</th>\n",
       "      <th>Platform</th>\n",
       "      <th>Country</th>\n",
       "      <th>Difficulty</th>\n",
       "    </tr>\n",
       "  </thead>\n",
       "  <tbody>\n",
       "    <tr>\n",
       "      <th>0</th>\n",
       "      <td>1</td>\n",
       "      <td>22.892279</td>\n",
       "      <td>0.0</td>\n",
       "      <td>0</td>\n",
       "      <td>0.0</td>\n",
       "      <td>android</td>\n",
       "      <td>GB</td>\n",
       "      <td>easy</td>\n",
       "    </tr>\n",
       "    <tr>\n",
       "      <th>1</th>\n",
       "      <td>2</td>\n",
       "      <td>16.528882</td>\n",
       "      <td>0.0</td>\n",
       "      <td>0</td>\n",
       "      <td>0.0</td>\n",
       "      <td>android</td>\n",
       "      <td>GB</td>\n",
       "      <td>easy</td>\n",
       "    </tr>\n",
       "    <tr>\n",
       "      <th>2</th>\n",
       "      <td>3</td>\n",
       "      <td>130.662169</td>\n",
       "      <td>0.0</td>\n",
       "      <td>0</td>\n",
       "      <td>0.0</td>\n",
       "      <td>android</td>\n",
       "      <td>GB</td>\n",
       "      <td>easy</td>\n",
       "    </tr>\n",
       "    <tr>\n",
       "      <th>3</th>\n",
       "      <td>4</td>\n",
       "      <td>108.497087</td>\n",
       "      <td>0.0</td>\n",
       "      <td>0</td>\n",
       "      <td>0.0</td>\n",
       "      <td>android</td>\n",
       "      <td>GB</td>\n",
       "      <td>easy</td>\n",
       "    </tr>\n",
       "    <tr>\n",
       "      <th>4</th>\n",
       "      <td>5</td>\n",
       "      <td>117.504999</td>\n",
       "      <td>0.0</td>\n",
       "      <td>0</td>\n",
       "      <td>0.0</td>\n",
       "      <td>android</td>\n",
       "      <td>GB</td>\n",
       "      <td>easy</td>\n",
       "    </tr>\n",
       "  </tbody>\n",
       "</table>\n",
       "</div>"
      ],
      "text/plain": [
       "   Sample        Time  Time_prev  Event  Cost Platform Country Difficulty\n",
       "0       1   22.892279        0.0      0   0.0  android      GB       easy\n",
       "1       2   16.528882        0.0      0   0.0  android      GB       easy\n",
       "2       3  130.662169        0.0      0   0.0  android      GB       easy\n",
       "3       4  108.497087        0.0      0   0.0  android      GB       easy\n",
       "4       5  117.504999        0.0      0   0.0  android      GB       easy"
      ]
     },
     "execution_count": 21,
     "metadata": {},
     "output_type": "execute_result"
    }
   ],
   "source": [
    "data_purchases = pd.read_csv('tutorial/purchases_regression.csv')\n",
    "data_purchases.head()"
   ]
  },
  {
   "cell_type": "markdown",
   "metadata": {},
   "source": [
    "There are now three extra columns 'Platform', 'Country', and 'Difficulty'. These define 24 different cohorts with 50 players each:"
   ]
  },
  {
   "cell_type": "code",
   "execution_count": 22,
   "metadata": {},
   "outputs": [
    {
     "data": {
      "text/plain": [
       "Platform  Country  Difficulty\n",
       "android   AU       easy          50\n",
       "                   hard          50\n",
       "                   normal        50\n",
       "          GB       easy          50\n",
       "                   hard          50\n",
       "                   normal        50\n",
       "          NL       easy          50\n",
       "                   hard          50\n",
       "                   normal        50\n",
       "          US       easy          50\n",
       "                   hard          50\n",
       "                   normal        50\n",
       "ios       AU       easy          50\n",
       "                   hard          50\n",
       "                   normal        50\n",
       "          GB       easy          50\n",
       "                   hard          50\n",
       "                   normal        50\n",
       "          NL       easy          50\n",
       "                   hard          50\n",
       "                   normal        50\n",
       "          US       easy          50\n",
       "                   hard          50\n",
       "                   normal        50\n",
       "Name: Sample, dtype: int64"
      ]
     },
     "execution_count": 22,
     "metadata": {},
     "output_type": "execute_result"
    }
   ],
   "source": [
    "covariates = ['Platform', 'Country', 'Difficulty']\n",
    "to_string = lambda elements : ' / '.join(elements)\n",
    "\n",
    "data_purchases.groupby(covariates)['Sample'].agg(lambda s: len(s.unique()))"
   ]
  },
  {
   "cell_type": "markdown",
   "metadata": {},
   "source": [
    "We plot the data, but see that it is quite difficult to make sense of this many cohorts:"
   ]
  },
  {
   "cell_type": "code",
   "execution_count": 23,
   "metadata": {},
   "outputs": [
    {
     "data": {
      "image/png": "[encoded data removed]",
      "text/plain": [
       "<Figure size 720x432 with 24 Axes>"
      ]
     },
     "metadata": {
      "needs_background": "light"
     },
     "output_type": "display_data"
    }
   ],
   "source": [
    "df_purchases = transform_data(data_purchases)\n",
    "df_cohorts = {to_string(cohort): df for cohort, df in df_purchases.groupby(covariates)}\n",
    "\n",
    "fig = plt.figure(figsize=(10, 6))\n",
    "fig.suptitle(to_string(covariates))\n",
    "gs = gridspec.GridSpec(4, 6)\n",
    "gs.update(wspace=0.1, hspace=0.3)\n",
    "for i, cohort in enumerate(df_cohorts):\n",
    "    ax = fig.add_subplot(gs[i])\n",
    "    plot_data(df_cohorts[cohort], ax, marker='.', alpha=0.2, plot_costs=False)\n",
    "    ax.set_title(cohort, fontsize=8)\n",
    "    ax.set_xlabel('')\n",
    "    ax.set_ylabel('')\n",
    "    ax.set_xticklabels([])\n",
    "    ax.set_yticklabels([])\n"
   ]
  },
  {
   "cell_type": "markdown",
   "metadata": {},
   "source": [
    "The combination of platform/country/difficulty defines simply too many MCFs to have a clear comparisons:"
   ]
  },
  {
   "cell_type": "code",
   "execution_count": 24,
   "metadata": {},
   "outputs": [
    {
     "data": {
      "text/plain": [
       "(0.0, 0.8)"
      ]
     },
     "execution_count": 24,
     "metadata": {},
     "output_type": "execute_result"
    },
    {
     "data": {
      "image/png": "[encoded data removed]",
      "text/plain": [
       "<Figure size 360x288 with 1 Axes>"
      ]
     },
     "metadata": {
      "needs_background": "light"
     },
     "output_type": "display_data"
    }
   ],
   "source": [
    "mcfs = {to_string(cohort): mcf(df, robust=True, positive=False) for cohort, df in df_purchases.groupby(covariates)}\n",
    "\n",
    "fig, ax = plt.subplots(1,1, figsize=(5, 4))\n",
    "plot_mcfs(mcfs.items(), ax=ax, CI=False)\n",
    "ax.legend(fontsize=8, bbox_to_anchor=(1.1, 1.0), ncol=2)\n",
    "ax.set_ylim([0.00, 0.80])"
   ]
  },
  {
   "cell_type": "markdown",
   "metadata": {},
   "source": [
    "One solution is to use regression. However, the Python MCF package does not (yet) implement regression. We therefore used R in the 'tutorial_regression.ipynb' notebook to analyze the effect of platform/country/version and predict the MCF curve for each cohort.\n",
    "\n",
    "> Open the 'tutorial_regression.ipynb' notebook to see the R regression results\n",
    "\n",
    "First, load the predicted 'MCF curves' for different cohorts:"
   ]
  },
  {
   "cell_type": "code",
   "execution_count": 25,
   "metadata": {},
   "outputs": [
    {
     "data": {
      "text/html": [
       "<div>\n",
       "<style scoped>\n",
       "    .dataframe tbody tr th:only-of-type {\n",
       "        vertical-align: middle;\n",
       "    }\n",
       "\n",
       "    .dataframe tbody tr th {\n",
       "        vertical-align: top;\n",
       "    }\n",
       "\n",
       "    .dataframe thead th {\n",
       "        text-align: right;\n",
       "    }\n",
       "</style>\n",
       "<table border=\"1\" class=\"dataframe\">\n",
       "  <thead>\n",
       "    <tr style=\"text-align: right;\">\n",
       "      <th></th>\n",
       "      <th>Time</th>\n",
       "      <th>N</th>\n",
       "      <th>N.var</th>\n",
       "      <th>Platform</th>\n",
       "      <th>Country</th>\n",
       "      <th>Difficulty</th>\n",
       "    </tr>\n",
       "  </thead>\n",
       "  <tbody>\n",
       "    <tr>\n",
       "      <th>0</th>\n",
       "      <td>0.006839</td>\n",
       "      <td>0.000000</td>\n",
       "      <td>0.000000e+00</td>\n",
       "      <td>android</td>\n",
       "      <td>GB</td>\n",
       "      <td>normal</td>\n",
       "    </tr>\n",
       "    <tr>\n",
       "      <th>1</th>\n",
       "      <td>0.009385</td>\n",
       "      <td>0.000701</td>\n",
       "      <td>7.936225e-09</td>\n",
       "      <td>android</td>\n",
       "      <td>GB</td>\n",
       "      <td>normal</td>\n",
       "    </tr>\n",
       "    <tr>\n",
       "      <th>2</th>\n",
       "      <td>0.074281</td>\n",
       "      <td>0.001401</td>\n",
       "      <td>3.174490e-08</td>\n",
       "      <td>android</td>\n",
       "      <td>GB</td>\n",
       "      <td>normal</td>\n",
       "    </tr>\n",
       "    <tr>\n",
       "      <th>3</th>\n",
       "      <td>0.165879</td>\n",
       "      <td>0.002102</td>\n",
       "      <td>7.142602e-08</td>\n",
       "      <td>android</td>\n",
       "      <td>GB</td>\n",
       "      <td>normal</td>\n",
       "    </tr>\n",
       "    <tr>\n",
       "      <th>4</th>\n",
       "      <td>0.195003</td>\n",
       "      <td>0.002102</td>\n",
       "      <td>7.142602e-08</td>\n",
       "      <td>android</td>\n",
       "      <td>GB</td>\n",
       "      <td>normal</td>\n",
       "    </tr>\n",
       "  </tbody>\n",
       "</table>\n",
       "</div>"
      ],
      "text/plain": [
       "       Time         N         N.var Platform Country Difficulty\n",
       "0  0.006839  0.000000  0.000000e+00  android      GB     normal\n",
       "1  0.009385  0.000701  7.936225e-09  android      GB     normal\n",
       "2  0.074281  0.001401  3.174490e-08  android      GB     normal\n",
       "3  0.165879  0.002102  7.142602e-08  android      GB     normal\n",
       "4  0.195003  0.002102  7.142602e-08  android      GB     normal"
      ]
     },
     "execution_count": 25,
     "metadata": {},
     "output_type": "execute_result"
    }
   ],
   "source": [
    "predict = pd.read_csv('tutorial/purchases_regression_predict.csv')\n",
    "predict.head()"
   ]
  },
  {
   "cell_type": "markdown",
   "metadata": {},
   "source": [
    "The population MCF curve looks like this:"
   ]
  },
  {
   "cell_type": "code",
   "execution_count": 26,
   "metadata": {},
   "outputs": [
    {
     "data": {
      "text/plain": [
       "(0.0, 0.6)"
      ]
     },
     "execution_count": 26,
     "metadata": {},
     "output_type": "execute_result"
    },
    {
     "data": {
      "image/png": "[encoded data removed]",
      "text/plain": [
       "<Figure size 432x288 with 1 Axes>"
      ]
     },
     "metadata": {
      "needs_background": "light"
     },
     "output_type": "display_data"
    }
   ],
   "source": [
    "df_purchases = transform_data(data_purchases)\n",
    "mcf_purchases = mcf(df_purchases, robust=True, positive=True)\n",
    "\n",
    "fig, ax  = plt.subplots(1, 1)\n",
    "plot_mcf(mcf_purchases, ax=ax, cost=False, label='Population')\n",
    "ax.set_ylim(0.00, 0.60)"
   ]
  },
  {
   "cell_type": "markdown",
   "metadata": {},
   "source": [
    "The following widget can be used to test how the predictions given by R would look like in different cohorts:"
   ]
  },
  {
   "cell_type": "code",
   "execution_count": 27,
   "metadata": {},
   "outputs": [
    {
     "data": {
      "application/vnd.jupyter.widget-view+json": {
       "model_id": "06f1ad01b9a241b9bf169109471475c4",
       "version_major": 2,
       "version_minor": 0
      },
      "text/plain": [
       "aW50ZXJhY3RpdmUoY2hpbGRyZW49KERyb3Bkb3duKGRlc2NyaXB0aW9uPXUncGxhdGZvcm0nLCBvcHRpb25zPSgnYW5kcm9pZCcsICdpb3MnKSwgdmFsdWU9J2FuZHJvaWQnKSwgRHJvcGRvd27igKY=\n"
      ]
     },
     "metadata": {},
     "output_type": "display_data"
    }
   ],
   "source": [
    "def f(platform, country, version):\n",
    "    cohort = 'Cohort: ' + ', '.join([platform, country, version])\n",
    "    reg = predict[(predict['Platform'] == platform) & (predict['Country'] == country) & (predict['Difficulty'] == version)]\n",
    "    reg = reg.copy()\n",
    "    with np.errstate(divide='ignore'):\n",
    "        reg['N.ucl'] = np.exp(np.log(reg['N']) + Z*np.sqrt(reg['N.var'])/reg['N'])#reg['N'] + Z*np.sqrt(reg['N.var'])\n",
    "        reg['N.lcl'] = np.exp(np.log(reg['N']) - Z*np.sqrt(reg['N.var'])/reg['N'])#reg['N'] - Z*np.sqrt(reg['N.var'])\n",
    "    \n",
    "    fig, ax  = plt.subplots(1, 1)\n",
    "    ax.plot(reg['Time'], reg['N'], marker='', linestyle='-', drawstyle='steps-post', color='black', label=cohort)\n",
    "    ax.plot(reg['Time'], reg['N.ucl'], marker='', linestyle='--', drawstyle='steps-post', color='black', label='')\n",
    "    ax.plot(reg['Time'], reg['N.lcl'], marker='', linestyle='--', drawstyle='steps-post', color='black', label='')\n",
    "    #ax.set_ylim(0.00, 0.60)\n",
    "    ax.set_title('Cox Model Prediction')\n",
    "    ax.set_ylabel('Mean Number of Events')\n",
    "    ax.set_xlabel('Time')\n",
    "    ax.legend()\n",
    "    ax.grid()\n",
    "\n",
    "_ = widgets.interact(f, platform=['android', 'ios'], country=['GB', 'US', 'NL', 'AU'], version=['easy', 'normal', 'hard'])"
   ]
  },
  {
   "cell_type": "markdown",
   "metadata": {},
   "source": [
    "<a id='extrapolation'></a>"
   ]
  },
  {
   "cell_type": "markdown",
   "metadata": {},
   "source": [
    "## Extrapolation of the number of purchases"
   ]
  },
  {
   "cell_type": "markdown",
   "metadata": {},
   "source": [
    "In the fourth example, we load a data set to compare game versions:"
   ]
  },
  {
   "cell_type": "code",
   "execution_count": 28,
   "metadata": {},
   "outputs": [
    {
     "data": {
      "text/html": [
       "<div>\n",
       "<style scoped>\n",
       "    .dataframe tbody tr th:only-of-type {\n",
       "        vertical-align: middle;\n",
       "    }\n",
       "\n",
       "    .dataframe tbody tr th {\n",
       "        vertical-align: top;\n",
       "    }\n",
       "\n",
       "    .dataframe thead th {\n",
       "        text-align: right;\n",
       "    }\n",
       "</style>\n",
       "<table border=\"1\" class=\"dataframe\">\n",
       "  <thead>\n",
       "    <tr style=\"text-align: right;\">\n",
       "      <th></th>\n",
       "      <th>Sample</th>\n",
       "      <th>Time</th>\n",
       "      <th>Time_prev</th>\n",
       "      <th>Event</th>\n",
       "      <th>Cost</th>\n",
       "      <th>Version</th>\n",
       "    </tr>\n",
       "  </thead>\n",
       "  <tbody>\n",
       "    <tr>\n",
       "      <th>0</th>\n",
       "      <td>1</td>\n",
       "      <td>63.647824</td>\n",
       "      <td>0.0</td>\n",
       "      <td>0</td>\n",
       "      <td>0.0</td>\n",
       "      <td>old</td>\n",
       "    </tr>\n",
       "    <tr>\n",
       "      <th>1</th>\n",
       "      <td>2</td>\n",
       "      <td>125.229518</td>\n",
       "      <td>0.0</td>\n",
       "      <td>0</td>\n",
       "      <td>0.0</td>\n",
       "      <td>old</td>\n",
       "    </tr>\n",
       "    <tr>\n",
       "      <th>2</th>\n",
       "      <td>3</td>\n",
       "      <td>173.641979</td>\n",
       "      <td>0.0</td>\n",
       "      <td>0</td>\n",
       "      <td>0.0</td>\n",
       "      <td>old</td>\n",
       "    </tr>\n",
       "    <tr>\n",
       "      <th>3</th>\n",
       "      <td>4</td>\n",
       "      <td>35.900407</td>\n",
       "      <td>0.0</td>\n",
       "      <td>0</td>\n",
       "      <td>0.0</td>\n",
       "      <td>old</td>\n",
       "    </tr>\n",
       "    <tr>\n",
       "      <th>4</th>\n",
       "      <td>5</td>\n",
       "      <td>154.580784</td>\n",
       "      <td>0.0</td>\n",
       "      <td>0</td>\n",
       "      <td>0.0</td>\n",
       "      <td>old</td>\n",
       "    </tr>\n",
       "  </tbody>\n",
       "</table>\n",
       "</div>"
      ],
      "text/plain": [
       "   Sample        Time  Time_prev  Event  Cost Version\n",
       "0       1   63.647824        0.0      0   0.0     old\n",
       "1       2  125.229518        0.0      0   0.0     old\n",
       "2       3  173.641979        0.0      0   0.0     old\n",
       "3       4   35.900407        0.0      0   0.0     old\n",
       "4       5  154.580784        0.0      0   0.0     old"
      ]
     },
     "execution_count": 28,
     "metadata": {},
     "output_type": "execute_result"
    }
   ],
   "source": [
    "data_purchases = pd.read_csv('tutorial/purchases_extrapolate.csv')\n",
    "data_purchases.head()"
   ]
  },
  {
   "cell_type": "markdown",
   "metadata": {},
   "source": [
    "There is one extra column 'Version', which differs by the number of players and maximum follow-up:"
   ]
  },
  {
   "cell_type": "code",
   "execution_count": 29,
   "metadata": {},
   "outputs": [
    {
     "name": "stdout",
     "output_type": "stream",
     "text": [
      "Version\n",
      "new    100\n",
      "old    300\n",
      "Name: Sample, dtype: int64\n",
      "Version\n",
      "new     59.097638\n",
      "old    179.522680\n",
      "Name: Time, dtype: float64\n"
     ]
    }
   ],
   "source": [
    "print(data_purchases.groupby('Version')['Sample'].agg(lambda s: len(s.unique())))\n",
    "print(data_purchases.groupby('Version')['Time'].agg('max'))"
   ]
  },
  {
   "cell_type": "markdown",
   "metadata": {},
   "source": [
    "Lets visualize the data to understand it better. We see that the new version is more recent so there is less data:"
   ]
  },
  {
   "cell_type": "code",
   "execution_count": 30,
   "metadata": {},
   "outputs": [
    {
     "data": {
      "text/plain": [
       "<matplotlib.axes._subplots.AxesSubplot at 0xcbd55c0>"
      ]
     },
     "execution_count": 30,
     "metadata": {},
     "output_type": "execute_result"
    },
    {
     "data": {
      "image/png": "[encoded data removed]",
      "text/plain": [
       "<Figure size 432x288 with 1 Axes>"
      ]
     },
     "metadata": {
      "needs_background": "light"
     },
     "output_type": "display_data"
    }
   ],
   "source": [
    "df_purchases = transform_data(data_purchases)\n",
    "df_old = df_purchases[df_purchases['Version'] == 'old']\n",
    "df_new = df_purchases[df_purchases['Version'] == 'new']\n",
    "\n",
    "fig, ax  = plt.subplots(1, 1)\n",
    "plot_datas([('old', df_old), ('new', df_new)], ax=ax, plot_costs=False, alpha=0.2)"
   ]
  },
  {
   "cell_type": "markdown",
   "metadata": {},
   "source": [
    "Based on the MCF comparison, it would be desirable to extrapolate what happens in the 'new' version based on what we know of the 'old' version:"
   ]
  },
  {
   "cell_type": "code",
   "execution_count": 31,
   "metadata": {},
   "outputs": [
    {
     "data": {
      "text/plain": [
       "(0.0, 0.4)"
      ]
     },
     "execution_count": 31,
     "metadata": {},
     "output_type": "execute_result"
    },
    {
     "data": {
      "image/png": "[encoded data removed]",
      "text/plain": [
       "<Figure size 432x288 with 1 Axes>"
      ]
     },
     "metadata": {
      "needs_background": "light"
     },
     "output_type": "display_data"
    }
   ],
   "source": [
    "mcf_old = mcf(df_old, robust=True, positive=True)\n",
    "mcf_new = mcf(df_new, robust=True, positive=True)\n",
    "\n",
    "fig, ax  = plt.subplots(1, 1)\n",
    "plot_mcfs([('old (mcf)', mcf_old), ('new (mcf)', mcf_new)], ax=ax, CI=True)\n",
    "ax.set_ylim(0.00, 0.40)"
   ]
  },
  {
   "cell_type": "markdown",
   "metadata": {},
   "source": [
    "This can be done with regression, by finding the cofficient of how the new version is proportional to the old. \n",
    "\n",
    "Lets load the predictions from our R analysis:"
   ]
  },
  {
   "cell_type": "code",
   "execution_count": 32,
   "metadata": {},
   "outputs": [
    {
     "data": {
      "text/html": [
       "<div>\n",
       "<style scoped>\n",
       "    .dataframe tbody tr th:only-of-type {\n",
       "        vertical-align: middle;\n",
       "    }\n",
       "\n",
       "    .dataframe tbody tr th {\n",
       "        vertical-align: top;\n",
       "    }\n",
       "\n",
       "    .dataframe thead th {\n",
       "        text-align: right;\n",
       "    }\n",
       "</style>\n",
       "<table border=\"1\" class=\"dataframe\">\n",
       "  <thead>\n",
       "    <tr style=\"text-align: right;\">\n",
       "      <th></th>\n",
       "      <th>Time</th>\n",
       "      <th>N</th>\n",
       "      <th>N.var</th>\n",
       "      <th>Version</th>\n",
       "    </tr>\n",
       "  </thead>\n",
       "  <tbody>\n",
       "    <tr>\n",
       "      <th>0</th>\n",
       "      <td>0.246977</td>\n",
       "      <td>0.000000</td>\n",
       "      <td>0.000000e+00</td>\n",
       "      <td>old</td>\n",
       "    </tr>\n",
       "    <tr>\n",
       "      <th>1</th>\n",
       "      <td>0.339185</td>\n",
       "      <td>0.002333</td>\n",
       "      <td>4.111318e-08</td>\n",
       "      <td>old</td>\n",
       "    </tr>\n",
       "    <tr>\n",
       "      <th>2</th>\n",
       "      <td>0.906544</td>\n",
       "      <td>0.004666</td>\n",
       "      <td>1.644527e-07</td>\n",
       "      <td>old</td>\n",
       "    </tr>\n",
       "    <tr>\n",
       "      <th>3</th>\n",
       "      <td>1.327629</td>\n",
       "      <td>0.004666</td>\n",
       "      <td>1.644527e-07</td>\n",
       "      <td>old</td>\n",
       "    </tr>\n",
       "    <tr>\n",
       "      <th>4</th>\n",
       "      <td>1.807470</td>\n",
       "      <td>0.004666</td>\n",
       "      <td>1.644527e-07</td>\n",
       "      <td>old</td>\n",
       "    </tr>\n",
       "  </tbody>\n",
       "</table>\n",
       "</div>"
      ],
      "text/plain": [
       "       Time         N         N.var Version\n",
       "0  0.246977  0.000000  0.000000e+00     old\n",
       "1  0.339185  0.002333  4.111318e-08     old\n",
       "2  0.906544  0.004666  1.644527e-07     old\n",
       "3  1.327629  0.004666  1.644527e-07     old\n",
       "4  1.807470  0.004666  1.644527e-07     old"
      ]
     },
     "execution_count": 32,
     "metadata": {},
     "output_type": "execute_result"
    }
   ],
   "source": [
    "extrapolate = pd.read_csv('tutorial/purchases_extrapolate_predict.csv', sep=',')\n",
    "extrapolate.head()"
   ]
  },
  {
   "cell_type": "markdown",
   "metadata": {},
   "source": [
    "The following widget can be used to test how the predictions would look like for the 'new' and 'old' version:"
   ]
  },
  {
   "cell_type": "code",
   "execution_count": 33,
   "metadata": {},
   "outputs": [
    {
     "data": {
      "application/vnd.jupyter.widget-view+json": {
       "model_id": "91b0eb4871eb4a768f56f2d8ef99c735",
       "version_major": 2,
       "version_minor": 0
      },
      "text/plain": [
       "aW50ZXJhY3RpdmUoY2hpbGRyZW49KERyb3Bkb3duKGRlc2NyaXB0aW9uPXUndmVyc2lvbicsIG9wdGlvbnM9KCdvbGQnLCAnbmV3JyksIHZhbHVlPSdvbGQnKSwgT3V0cHV0KCkpLCBfZG9tX2PigKY=\n"
      ]
     },
     "metadata": {},
     "output_type": "display_data"
    }
   ],
   "source": [
    "def f(version):\n",
    "    reg = extrapolate[extrapolate['Version'] == version]\n",
    "    reg = reg.copy()\n",
    "    with np.errstate(divide='ignore'):\n",
    "        reg['N.ucl'] = np.exp(np.log(reg['N']) + Z*np.sqrt(reg['N.var'])/reg['N'])#reg['N'] + Z*np.sqrt(reg['N.var'])\n",
    "        reg['N.lcl'] = np.exp(np.log(reg['N']) - Z*np.sqrt(reg['N.var'])/reg['N'])#reg['N'] - Z*np.sqrt(reg['N.var'])\n",
    "        \n",
    "    fig, ax  = plt.subplots(1, 1)\n",
    "    plot_mcfs([('old (mcf)', mcf_old), ('new (mcf)', mcf_new)], ax=ax, CI=False)\n",
    "    ax.plot(reg['Time'], reg['N'], marker='', linestyle='-', drawstyle='steps-post', color='black', label='%s (cox)' % version)\n",
    "    ax.plot(reg['Time'], reg['N.ucl'], marker='', linestyle='--', drawstyle='steps-post', color='black', label='')\n",
    "    ax.plot(reg['Time'], reg['N.lcl'], marker='', linestyle='--', drawstyle='steps-post', color='black', label='')\n",
    "    ax.legend()\n",
    "    ax.set_title('Cox Model Prediction')\n",
    "    ax.set_ylim(0.00, 0.40)\n",
    "\n",
    "_ = widgets.interact(f, version=['old', 'new'])"
   ]
  },
  {
   "cell_type": "markdown",
   "metadata": {},
   "source": [
    "<a id='ltv'></a>"
   ]
  },
  {
   "cell_type": "markdown",
   "metadata": {},
   "source": [
    "## Calculating the total playtime or the lifetime value"
   ]
  },
  {
   "cell_type": "markdown",
   "metadata": {},
   "source": [
    "The previous analysis were focused on the number of sessions or purchases. However, it would be desirable to calculate the total playtime or the lifetime value, which also depend on the session durations or the purchase amounts. In fact, the MCF directly generalizes to real-value data."
   ]
  },
  {
   "cell_type": "markdown",
   "metadata": {},
   "source": [
    "First, lets load the same data sets as in the first example:"
   ]
  },
  {
   "cell_type": "code",
   "execution_count": 34,
   "metadata": {},
   "outputs": [],
   "source": [
    "data_sessions = pd.read_csv('tutorial/sessions.csv')\n",
    "data_purchases = pd.read_csv('tutorial/purchases.csv')"
   ]
  },
  {
   "cell_type": "markdown",
   "metadata": {},
   "source": [
    "If we take into account the session durations the data looks like this:"
   ]
  },
  {
   "cell_type": "code",
   "execution_count": 35,
   "metadata": {},
   "outputs": [
    {
     "data": {
      "text/plain": [
       "<matplotlib.axes._subplots.AxesSubplot at 0xcd9bf60>"
      ]
     },
     "execution_count": 35,
     "metadata": {},
     "output_type": "execute_result"
    },
    {
     "data": {
      "image/png": "[encoded data removed]",
      "text/plain": [
       "<Figure size 432x288 with 1 Axes>"
      ]
     },
     "metadata": {
      "needs_background": "light"
     },
     "output_type": "display_data"
    }
   ],
   "source": [
    "df_sessions = transform_data(data_sessions)\n",
    "\n",
    "fig, ax = plt.subplots(1, 1)\n",
    "plot_data(df_sessions, ax=ax, marker='.', label='Session', alpha=0.2)"
   ]
  },
  {
   "cell_type": "markdown",
   "metadata": {},
   "source": [
    "Lets calculate the expected playtime $E[C]$ (or 'Cost') as a function of follow-up time:"
   ]
  },
  {
   "cell_type": "code",
   "execution_count": 36,
   "metadata": {},
   "outputs": [
    {
     "data": {
      "text/html": [
       "<div>\n",
       "<style scoped>\n",
       "    .dataframe tbody tr th:only-of-type {\n",
       "        vertical-align: middle;\n",
       "    }\n",
       "\n",
       "    .dataframe tbody tr th {\n",
       "        vertical-align: top;\n",
       "    }\n",
       "\n",
       "    .dataframe thead th {\n",
       "        text-align: right;\n",
       "    }\n",
       "</style>\n",
       "<table border=\"1\" class=\"dataframe\">\n",
       "  <thead>\n",
       "    <tr style=\"text-align: right;\">\n",
       "      <th></th>\n",
       "      <th>Time</th>\n",
       "      <th>dC</th>\n",
       "      <th>dN</th>\n",
       "      <th>dY</th>\n",
       "      <th>Y</th>\n",
       "      <th>dE[C]</th>\n",
       "      <th>E[C]</th>\n",
       "      <th>E[C].Var</th>\n",
       "      <th>E[C].ucl</th>\n",
       "      <th>E[C].lcl</th>\n",
       "    </tr>\n",
       "  </thead>\n",
       "  <tbody>\n",
       "    <tr>\n",
       "      <th>0</th>\n",
       "      <td>0.000000</td>\n",
       "      <td>0.000000</td>\n",
       "      <td>0</td>\n",
       "      <td>100</td>\n",
       "      <td>0.0</td>\n",
       "      <td>0.000000</td>\n",
       "      <td>0.000000</td>\n",
       "      <td>0.000000e+00</td>\n",
       "      <td>0.000000</td>\n",
       "      <td>0.000000</td>\n",
       "    </tr>\n",
       "    <tr>\n",
       "      <th>1</th>\n",
       "      <td>0.002226</td>\n",
       "      <td>0.045287</td>\n",
       "      <td>1</td>\n",
       "      <td>0</td>\n",
       "      <td>100.0</td>\n",
       "      <td>0.000453</td>\n",
       "      <td>0.000453</td>\n",
       "      <td>2.030426e-07</td>\n",
       "      <td>0.003184</td>\n",
       "      <td>0.000064</td>\n",
       "    </tr>\n",
       "    <tr>\n",
       "      <th>2</th>\n",
       "      <td>0.062728</td>\n",
       "      <td>0.253390</td>\n",
       "      <td>1</td>\n",
       "      <td>0</td>\n",
       "      <td>100.0</td>\n",
       "      <td>0.002534</td>\n",
       "      <td>0.002987</td>\n",
       "      <td>6.536551e-06</td>\n",
       "      <td>0.015989</td>\n",
       "      <td>0.000558</td>\n",
       "    </tr>\n",
       "    <tr>\n",
       "      <th>3</th>\n",
       "      <td>0.139117</td>\n",
       "      <td>0.149212</td>\n",
       "      <td>1</td>\n",
       "      <td>0</td>\n",
       "      <td>100.0</td>\n",
       "      <td>0.001492</td>\n",
       "      <td>0.004479</td>\n",
       "      <td>8.651572e-06</td>\n",
       "      <td>0.016224</td>\n",
       "      <td>0.001236</td>\n",
       "    </tr>\n",
       "    <tr>\n",
       "      <th>4</th>\n",
       "      <td>0.158762</td>\n",
       "      <td>0.130073</td>\n",
       "      <td>1</td>\n",
       "      <td>0</td>\n",
       "      <td>100.0</td>\n",
       "      <td>0.001301</td>\n",
       "      <td>0.005780</td>\n",
       "      <td>1.021003e-05</td>\n",
       "      <td>0.017080</td>\n",
       "      <td>0.001956</td>\n",
       "    </tr>\n",
       "  </tbody>\n",
       "</table>\n",
       "</div>"
      ],
      "text/plain": [
       "       Time        dC  dN   dY      Y     dE[C]      E[C]      E[C].Var  \\\n",
       "0  0.000000  0.000000   0  100    0.0  0.000000  0.000000  0.000000e+00   \n",
       "1  0.002226  0.045287   1    0  100.0  0.000453  0.000453  2.030426e-07   \n",
       "2  0.062728  0.253390   1    0  100.0  0.002534  0.002987  6.536551e-06   \n",
       "3  0.139117  0.149212   1    0  100.0  0.001492  0.004479  8.651572e-06   \n",
       "4  0.158762  0.130073   1    0  100.0  0.001301  0.005780  1.021003e-05   \n",
       "\n",
       "   E[C].ucl  E[C].lcl  \n",
       "0  0.000000  0.000000  \n",
       "1  0.003184  0.000064  \n",
       "2  0.015989  0.000558  \n",
       "3  0.016224  0.001236  \n",
       "4  0.017080  0.001956  "
      ]
     },
     "execution_count": 36,
     "metadata": {},
     "output_type": "execute_result"
    }
   ],
   "source": [
    "mcf_playtime = mcfcost(df_sessions, robust=True, positive=True)\n",
    "mcf_playtime.head()"
   ]
  },
  {
   "cell_type": "markdown",
   "metadata": {},
   "source": [
    "The same function can be used to plot the results:"
   ]
  },
  {
   "cell_type": "code",
   "execution_count": 37,
   "metadata": {},
   "outputs": [
    {
     "data": {
      "text/plain": [
       "<matplotlib.axes._subplots.AxesSubplot at 0xd178128>"
      ]
     },
     "execution_count": 37,
     "metadata": {},
     "output_type": "execute_result"
    },
    {
     "data": {
      "image/png": "[encoded data removed]",
      "text/plain": [
       "<Figure size 432x288 with 1 Axes>"
      ]
     },
     "metadata": {
      "needs_background": "light"
     },
     "output_type": "display_data"
    }
   ],
   "source": [
    "fig, ax = plt.subplots(1, 1)\n",
    "ax.plot(T, LTV(T, play_rate, churn_rate, mean_playtime) , linestyle='-', alpha=0.5, color='black', label='Playtime (true)')\n",
    "plot_mcf(mcf_playtime, ax=ax, cost=True, label='Playtime (mcf)')"
   ]
  },
  {
   "cell_type": "markdown",
   "metadata": {},
   "source": [
    "If we take into account the purchase amounts the data looks like this:"
   ]
  },
  {
   "cell_type": "code",
   "execution_count": 38,
   "metadata": {},
   "outputs": [
    {
     "data": {
      "text/plain": [
       "<matplotlib.axes._subplots.AxesSubplot at 0xd1c02e8>"
      ]
     },
     "execution_count": 38,
     "metadata": {},
     "output_type": "execute_result"
    },
    {
     "data": {
      "image/png": "[encoded data removed]",
      "text/plain": [
       "<Figure size 432x288 with 1 Axes>"
      ]
     },
     "metadata": {
      "needs_background": "light"
     },
     "output_type": "display_data"
    }
   ],
   "source": [
    "df_purchases = transform_data(data_purchases)\n",
    "\n",
    "fig, ax = plt.subplots(1, 1)\n",
    "plot_data(df_purchases, ax=ax, marker='*', label='Purchase', alpha=0.2)"
   ]
  },
  {
   "cell_type": "markdown",
   "metadata": {},
   "source": [
    "Lets calculate the expected lifetime value $E[C]$ (or 'Cost') as a function of follow-up time:"
   ]
  },
  {
   "cell_type": "code",
   "execution_count": 39,
   "metadata": {},
   "outputs": [
    {
     "data": {
      "text/html": [
       "<div>\n",
       "<style scoped>\n",
       "    .dataframe tbody tr th:only-of-type {\n",
       "        vertical-align: middle;\n",
       "    }\n",
       "\n",
       "    .dataframe tbody tr th {\n",
       "        vertical-align: top;\n",
       "    }\n",
       "\n",
       "    .dataframe thead th {\n",
       "        text-align: right;\n",
       "    }\n",
       "</style>\n",
       "<table border=\"1\" class=\"dataframe\">\n",
       "  <thead>\n",
       "    <tr style=\"text-align: right;\">\n",
       "      <th></th>\n",
       "      <th>Time</th>\n",
       "      <th>dC</th>\n",
       "      <th>dN</th>\n",
       "      <th>dY</th>\n",
       "      <th>Y</th>\n",
       "      <th>dE[C]</th>\n",
       "      <th>E[C]</th>\n",
       "      <th>E[C].Var</th>\n",
       "      <th>E[C].ucl</th>\n",
       "      <th>E[C].lcl</th>\n",
       "    </tr>\n",
       "  </thead>\n",
       "  <tbody>\n",
       "    <tr>\n",
       "      <th>0</th>\n",
       "      <td>0.000000</td>\n",
       "      <td>0.0</td>\n",
       "      <td>0</td>\n",
       "      <td>100</td>\n",
       "      <td>0.0</td>\n",
       "      <td>0.000000</td>\n",
       "      <td>0.000000</td>\n",
       "      <td>0.000000</td>\n",
       "      <td>0.000000</td>\n",
       "      <td>0.000000</td>\n",
       "    </tr>\n",
       "    <tr>\n",
       "      <th>1</th>\n",
       "      <td>0.458748</td>\n",
       "      <td>0.0</td>\n",
       "      <td>0</td>\n",
       "      <td>-1</td>\n",
       "      <td>100.0</td>\n",
       "      <td>0.000000</td>\n",
       "      <td>0.000000</td>\n",
       "      <td>0.000000</td>\n",
       "      <td>0.000000</td>\n",
       "      <td>0.000000</td>\n",
       "    </tr>\n",
       "    <tr>\n",
       "      <th>2</th>\n",
       "      <td>1.822383</td>\n",
       "      <td>1.0</td>\n",
       "      <td>1</td>\n",
       "      <td>0</td>\n",
       "      <td>99.0</td>\n",
       "      <td>0.010101</td>\n",
       "      <td>0.010101</td>\n",
       "      <td>0.000101</td>\n",
       "      <td>0.071000</td>\n",
       "      <td>0.001437</td>\n",
       "    </tr>\n",
       "    <tr>\n",
       "      <th>3</th>\n",
       "      <td>1.930503</td>\n",
       "      <td>0.0</td>\n",
       "      <td>0</td>\n",
       "      <td>-1</td>\n",
       "      <td>99.0</td>\n",
       "      <td>0.000000</td>\n",
       "      <td>0.010101</td>\n",
       "      <td>0.000101</td>\n",
       "      <td>0.071000</td>\n",
       "      <td>0.001437</td>\n",
       "    </tr>\n",
       "    <tr>\n",
       "      <th>4</th>\n",
       "      <td>2.272173</td>\n",
       "      <td>1.0</td>\n",
       "      <td>1</td>\n",
       "      <td>0</td>\n",
       "      <td>98.0</td>\n",
       "      <td>0.010204</td>\n",
       "      <td>0.020305</td>\n",
       "      <td>0.000202</td>\n",
       "      <td>0.080047</td>\n",
       "      <td>0.005151</td>\n",
       "    </tr>\n",
       "  </tbody>\n",
       "</table>\n",
       "</div>"
      ],
      "text/plain": [
       "       Time   dC  dN   dY      Y     dE[C]      E[C]  E[C].Var  E[C].ucl  \\\n",
       "0  0.000000  0.0   0  100    0.0  0.000000  0.000000  0.000000  0.000000   \n",
       "1  0.458748  0.0   0   -1  100.0  0.000000  0.000000  0.000000  0.000000   \n",
       "2  1.822383  1.0   1    0   99.0  0.010101  0.010101  0.000101  0.071000   \n",
       "3  1.930503  0.0   0   -1   99.0  0.000000  0.010101  0.000101  0.071000   \n",
       "4  2.272173  1.0   1    0   98.0  0.010204  0.020305  0.000202  0.080047   \n",
       "\n",
       "   E[C].lcl  \n",
       "0  0.000000  \n",
       "1  0.000000  \n",
       "2  0.001437  \n",
       "3  0.001437  \n",
       "4  0.005151  "
      ]
     },
     "execution_count": 39,
     "metadata": {},
     "output_type": "execute_result"
    }
   ],
   "source": [
    "df_purchases = transform_data(data_purchases)\n",
    "mcf_ltv = mcfcost(df_purchases, robust=True, positive=True)\n",
    "mcf_ltv.head()"
   ]
  },
  {
   "cell_type": "markdown",
   "metadata": {},
   "source": [
    "The same function can be used to plot the results:"
   ]
  },
  {
   "cell_type": "code",
   "execution_count": 40,
   "metadata": {},
   "outputs": [
    {
     "data": {
      "text/plain": [
       "<matplotlib.axes._subplots.AxesSubplot at 0x13e574e0>"
      ]
     },
     "execution_count": 40,
     "metadata": {},
     "output_type": "execute_result"
    },
    {
     "data": {
      "image/png": "[encoded data removed]",
      "text/plain": [
       "<Figure size 432x288 with 1 Axes>"
      ]
     },
     "metadata": {
      "needs_background": "light"
     },
     "output_type": "display_data"
    }
   ],
   "source": [
    "fig, ax = plt.subplots(1, 1)\n",
    "ax.plot(T, LTV(T, purchase_rate, churn_rate, mean_purchase) , linestyle='-', alpha=0.5, color='black', label='LTV (true)')\n",
    "plot_mcf(mcf_ltv, ax=ax, cost=True, label='LTV (mcf)')"
   ]
  },
  {
   "cell_type": "markdown",
   "metadata": {},
   "source": [
    "Finally, it is possible to incorporate total costs into the regression framework. However, the R 'survival' package does not directly support regression with events that have a real valued 'cost'. We therefore assume that the event process and the costs are independent and fit two separate models:\n",
    "1. Regression on the number of purchases (Cox proportional hazards)\n",
    "2. Regression on the purchase amount (Standard least squares)\n",
    "\n",
    "First we load the predictions:"
   ]
  },
  {
   "cell_type": "code",
   "execution_count": 41,
   "metadata": {},
   "outputs": [
    {
     "data": {
      "text/html": [
       "<div>\n",
       "<style scoped>\n",
       "    .dataframe tbody tr th:only-of-type {\n",
       "        vertical-align: middle;\n",
       "    }\n",
       "\n",
       "    .dataframe tbody tr th {\n",
       "        vertical-align: top;\n",
       "    }\n",
       "\n",
       "    .dataframe thead th {\n",
       "        text-align: right;\n",
       "    }\n",
       "</style>\n",
       "<table border=\"1\" class=\"dataframe\">\n",
       "  <thead>\n",
       "    <tr style=\"text-align: right;\">\n",
       "      <th></th>\n",
       "      <th>Time</th>\n",
       "      <th>N</th>\n",
       "      <th>N.var</th>\n",
       "      <th>Platform</th>\n",
       "      <th>Country</th>\n",
       "      <th>Difficulty</th>\n",
       "    </tr>\n",
       "  </thead>\n",
       "  <tbody>\n",
       "    <tr>\n",
       "      <th>0</th>\n",
       "      <td>0.006839</td>\n",
       "      <td>0.000000</td>\n",
       "      <td>0.000000e+00</td>\n",
       "      <td>android</td>\n",
       "      <td>GB</td>\n",
       "      <td>normal</td>\n",
       "    </tr>\n",
       "    <tr>\n",
       "      <th>1</th>\n",
       "      <td>0.009385</td>\n",
       "      <td>0.000701</td>\n",
       "      <td>7.936225e-09</td>\n",
       "      <td>android</td>\n",
       "      <td>GB</td>\n",
       "      <td>normal</td>\n",
       "    </tr>\n",
       "    <tr>\n",
       "      <th>2</th>\n",
       "      <td>0.074281</td>\n",
       "      <td>0.001401</td>\n",
       "      <td>3.174490e-08</td>\n",
       "      <td>android</td>\n",
       "      <td>GB</td>\n",
       "      <td>normal</td>\n",
       "    </tr>\n",
       "    <tr>\n",
       "      <th>3</th>\n",
       "      <td>0.165879</td>\n",
       "      <td>0.002102</td>\n",
       "      <td>7.142602e-08</td>\n",
       "      <td>android</td>\n",
       "      <td>GB</td>\n",
       "      <td>normal</td>\n",
       "    </tr>\n",
       "    <tr>\n",
       "      <th>4</th>\n",
       "      <td>0.195003</td>\n",
       "      <td>0.002102</td>\n",
       "      <td>7.142602e-08</td>\n",
       "      <td>android</td>\n",
       "      <td>GB</td>\n",
       "      <td>normal</td>\n",
       "    </tr>\n",
       "  </tbody>\n",
       "</table>\n",
       "</div>"
      ],
      "text/plain": [
       "       Time         N         N.var Platform Country Difficulty\n",
       "0  0.006839  0.000000  0.000000e+00  android      GB     normal\n",
       "1  0.009385  0.000701  7.936225e-09  android      GB     normal\n",
       "2  0.074281  0.001401  3.174490e-08  android      GB     normal\n",
       "3  0.165879  0.002102  7.142602e-08  android      GB     normal\n",
       "4  0.195003  0.002102  7.142602e-08  android      GB     normal"
      ]
     },
     "execution_count": 41,
     "metadata": {},
     "output_type": "execute_result"
    }
   ],
   "source": [
    "predict = pd.read_csv('tutorial/purchases_regression_predict.csv')\n",
    "predict.head()"
   ]
  },
  {
   "cell_type": "code",
   "execution_count": 42,
   "metadata": {},
   "outputs": [
    {
     "data": {
      "text/html": [
       "<div>\n",
       "<style scoped>\n",
       "    .dataframe tbody tr th:only-of-type {\n",
       "        vertical-align: middle;\n",
       "    }\n",
       "\n",
       "    .dataframe tbody tr th {\n",
       "        vertical-align: top;\n",
       "    }\n",
       "\n",
       "    .dataframe thead th {\n",
       "        text-align: right;\n",
       "    }\n",
       "</style>\n",
       "<table border=\"1\" class=\"dataframe\">\n",
       "  <thead>\n",
       "    <tr style=\"text-align: right;\">\n",
       "      <th></th>\n",
       "      <th>E</th>\n",
       "      <th>E.var</th>\n",
       "      <th>Platform</th>\n",
       "      <th>Country</th>\n",
       "      <th>Difficulty</th>\n",
       "    </tr>\n",
       "  </thead>\n",
       "  <tbody>\n",
       "    <tr>\n",
       "      <th>0</th>\n",
       "      <td>2.093834</td>\n",
       "      <td>0.238009</td>\n",
       "      <td>android</td>\n",
       "      <td>GB</td>\n",
       "      <td>normal</td>\n",
       "    </tr>\n",
       "    <tr>\n",
       "      <th>1</th>\n",
       "      <td>1.882122</td>\n",
       "      <td>0.238417</td>\n",
       "      <td>android</td>\n",
       "      <td>GB</td>\n",
       "      <td>easy</td>\n",
       "    </tr>\n",
       "    <tr>\n",
       "      <th>2</th>\n",
       "      <td>1.922546</td>\n",
       "      <td>0.250496</td>\n",
       "      <td>android</td>\n",
       "      <td>GB</td>\n",
       "      <td>hard</td>\n",
       "    </tr>\n",
       "    <tr>\n",
       "      <th>3</th>\n",
       "      <td>2.111275</td>\n",
       "      <td>0.143256</td>\n",
       "      <td>android</td>\n",
       "      <td>AU</td>\n",
       "      <td>normal</td>\n",
       "    </tr>\n",
       "    <tr>\n",
       "      <th>4</th>\n",
       "      <td>1.899564</td>\n",
       "      <td>0.151918</td>\n",
       "      <td>android</td>\n",
       "      <td>AU</td>\n",
       "      <td>easy</td>\n",
       "    </tr>\n",
       "  </tbody>\n",
       "</table>\n",
       "</div>"
      ],
      "text/plain": [
       "          E     E.var Platform Country Difficulty\n",
       "0  2.093834  0.238009  android      GB     normal\n",
       "1  1.882122  0.238417  android      GB       easy\n",
       "2  1.922546  0.250496  android      GB       hard\n",
       "3  2.111275  0.143256  android      AU     normal\n",
       "4  1.899564  0.151918  android      AU       easy"
      ]
     },
     "execution_count": 42,
     "metadata": {},
     "output_type": "execute_result"
    }
   ],
   "source": [
    "amount = pd.read_csv('tutorial/purchases_regression_amount.csv', sep=',')\n",
    "amount.head()"
   ]
  },
  {
   "cell_type": "markdown",
   "metadata": {},
   "source": [
    "The MCF for the entire population of players looks like this:"
   ]
  },
  {
   "cell_type": "code",
   "execution_count": 43,
   "metadata": {},
   "outputs": [
    {
     "data": {
      "text/plain": [
       "(0.0, 1.0)"
      ]
     },
     "execution_count": 43,
     "metadata": {},
     "output_type": "execute_result"
    },
    {
     "data": {
      "image/png": "[encoded data removed]",
      "text/plain": [
       "<Figure size 432x288 with 1 Axes>"
      ]
     },
     "metadata": {
      "needs_background": "light"
     },
     "output_type": "display_data"
    }
   ],
   "source": [
    "data_purchases = pd.read_csv('tutorial/purchases_regression.csv')\n",
    "df_purchases = transform_data(data_purchases)\n",
    "mcf_purchases = mcf(df_purchases, robust=True, positive=False)\n",
    "mcf_ltv = mcfcost(df_purchases, mcf_compound=mcf_purchases, positive=False)\n",
    "\n",
    "fig, ax  = plt.subplots(1, 1)\n",
    "plot_mcf(mcf_ltv, ax=ax, cost=True, label='Lifetime Value: population')\n",
    "ax.set_ylim(0.00, 1.00)"
   ]
  },
  {
   "cell_type": "markdown",
   "metadata": {},
   "source": [
    "The following widget can be used to visualize the regression predictions:"
   ]
  },
  {
   "cell_type": "code",
   "execution_count": 44,
   "metadata": {},
   "outputs": [
    {
     "data": {
      "application/vnd.jupyter.widget-view+json": {
       "model_id": "f5162f745eb74180bb58b0bae0c2cebf",
       "version_major": 2,
       "version_minor": 0
      },
      "text/plain": [
       "aW50ZXJhY3RpdmUoY2hpbGRyZW49KERyb3Bkb3duKGRlc2NyaXB0aW9uPXUncGxhdGZvcm0nLCBvcHRpb25zPSgnYW5kcm9pZCcsICdpb3MnKSwgdmFsdWU9J2FuZHJvaWQnKSwgRHJvcGRvd27igKY=\n"
      ]
     },
     "metadata": {},
     "output_type": "display_data"
    }
   ],
   "source": [
    "def f(platform, country, version):\n",
    "    lsq = amount[(amount['Platform'] == platform) & (amount['Country'] == country) & (amount['Difficulty'] == version)].iloc[0,]\n",
    "    reg = predict[(predict['Platform'] == platform) & (predict['Country'] == country) & (predict['Difficulty'] == version)]\n",
    "    reg = reg.copy()\n",
    "    reg['C'] = lsq['E']*reg['N']\n",
    "    reg['C.var'] = lsq['E']**2 * reg['N.var'] + lsq['E.var'] * reg['N']**2\n",
    "    with np.errstate(divide='ignore'):\n",
    "        reg['C.ucl'] = np.exp(np.log(reg['C']) + Z*np.sqrt(reg['C.var'])/reg['C'])#reg['C'] + Z*np.sqrt(reg['C.var'])\n",
    "        reg['C.lcl'] = np.exp(np.log(reg['C']) - Z*np.sqrt(reg['C.var'])/reg['C'])#reg['C'] - Z*np.sqrt(reg['C.var'])\n",
    "\n",
    "    fig, ax = plt.subplots(1, 1)\n",
    "    cohort = 'Lifetime Value: ' + ', '.join([platform, country, version])\n",
    "    ax.plot(reg['Time'], reg['C'], marker='', linestyle='-', drawstyle='steps-post', color='black', label=cohort)\n",
    "    ax.plot(reg['Time'], reg['C.ucl'], marker='', linestyle='--', drawstyle='steps-post', color='black', label='')\n",
    "    ax.plot(reg['Time'], reg['C.lcl'], marker='', linestyle='--', drawstyle='steps-post', color='black', label='')\n",
    "    #ax.set_ylim(0.00, 1.00)\n",
    "    ax.set_title('Cox Model Prediction')\n",
    "    ax.set_ylabel('Mean Cost')\n",
    "    ax.set_xlabel('Time')\n",
    "    ax.legend()\n",
    "    ax.grid()\n",
    "\n",
    "_ = widgets.interact(f, platform=['android', 'ios'], country=['GB', 'US', 'NL', 'AU'], version=['easy', 'normal', 'hard'])"
   ]
  },
  {
   "cell_type": "code",
   "execution_count": null,
   "metadata": {},
   "outputs": [],
   "source": []
  }
 ],
 "metadata": {
  "kernelspec": {
   "display_name": "Python 3",
   "language": "python",
   "name": "python3"
  },
  "language_info": {
   "codemirror_mode": {
    "name": "ipython",
    "version": 3
   },
   "file_extension": ".py",
   "mimetype": "text/x-python",
   "name": "python",
   "nbconvert_exporter": "python",
   "pygments_lexer": "ipython3",
   "version": "3.7.3"
  }
 },
 "nbformat": 4,
 "nbformat_minor": 2
}
