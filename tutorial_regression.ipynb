{
 "cells": [
  {
   "cell_type": "markdown",
   "metadata": {},
   "source": [
    "# R regression tutorial\n",
    "<i> Authors: Markus Viljanen </i>"
   ]
  },
  {
   "cell_type": "markdown",
   "metadata": {},
   "source": [
    "In this tutorial we show how to estimate the expected number of purchases or expected purchase amount in censored data sets. Because our Python MCF packages does not (yet) support regression we use the 'survival' package in R to model the recurrent event process. Unfortunately, the 'survival' package does not seem to fully support the robust confidence intervals for predictions of $E[N(t)]$."
   ]
  },
  {
   "cell_type": "markdown",
   "metadata": {},
   "source": [
    "<p><b> Table of contents </b></p>\n",
    "<ul>\n",
    "  <li><a href='#imports'>Imports</a></li>\n",
    "  <li><a href='#compare'>Compare purchases</a></li>\n",
    "  <li><a href='#regression1'>Regression (purchase counts)</a></li>\n",
    "  <li><a href='#regression2'>Regression (purchase amounts)</a></li>\n",
    "  <li><a href='#extrapolation'>Extrapolation (purchase counts)</a></li>\n",
    "  <li><a href='#conclusion'>Conclusion</a></li>\n",
    "</ul>"
   ]
  },
  {
   "cell_type": "markdown",
   "metadata": {},
   "source": [
    "<a id='imports'></a>"
   ]
  },
  {
   "cell_type": "markdown",
   "metadata": {},
   "source": [
    "## Imports"
   ]
  },
  {
   "cell_type": "code",
   "execution_count": 1,
   "metadata": {},
   "outputs": [
    {
     "name": "stderr",
     "output_type": "stream",
     "text": [
      "Warning message:\n",
      "\"package 'survival' was built under R version 3.6.3\"Warning message:\n",
      "\"package 'forestplot' was built under R version 3.6.3\"Loading required package: grid\n",
      "Loading required package: magrittr\n",
      "Warning message:\n",
      "\"package 'magrittr' was built under R version 3.6.3\"Loading required package: checkmate\n",
      "Warning message:\n",
      "\"package 'checkmate' was built under R version 3.6.3\""
     ]
    }
   ],
   "source": [
    "library(survival)\n",
    "library(forestplot)"
   ]
  },
  {
   "cell_type": "markdown",
   "metadata": {},
   "source": [
    "<a id='compare'></a>"
   ]
  },
  {
   "cell_type": "markdown",
   "metadata": {},
   "source": [
    "## Compare purchases"
   ]
  },
  {
   "cell_type": "markdown",
   "metadata": {},
   "source": [
    "In this section we perform the same 'ios' vs. 'android' comparison, but use a regression model instead.\n",
    "\n",
    "First we load the data set:"
   ]
  },
  {
   "cell_type": "code",
   "execution_count": 2,
   "metadata": {},
   "outputs": [
    {
     "data": {
      "text/html": [
       "<table>\n",
       "<thead><tr><th scope=col>Sample</th><th scope=col>Time</th><th scope=col>Time_prev</th><th scope=col>Event</th><th scope=col>Cost</th><th scope=col>Platform</th></tr></thead>\n",
       "<tbody>\n",
       "\t<tr><td>1        </td><td>120.79923</td><td>0        </td><td>0        </td><td>0        </td><td>ios      </td></tr>\n",
       "\t<tr><td>2        </td><td>175.80728</td><td>0        </td><td>0        </td><td>0        </td><td>ios      </td></tr>\n",
       "\t<tr><td>3        </td><td>135.02595</td><td>0        </td><td>0        </td><td>0        </td><td>ios      </td></tr>\n",
       "\t<tr><td>4        </td><td>166.04300</td><td>0        </td><td>0        </td><td>0        </td><td>ios      </td></tr>\n",
       "\t<tr><td>5        </td><td> 25.20539</td><td>0        </td><td>0        </td><td>0        </td><td>ios      </td></tr>\n",
       "\t<tr><td>6        </td><td> 19.20115</td><td>0        </td><td>0        </td><td>0        </td><td>ios      </td></tr>\n",
       "</tbody>\n",
       "</table>\n"
      ],
      "text/latex": [
       "\\begin{tabular}{r|llllll}\n",
       " Sample & Time & Time\\_prev & Event & Cost & Platform\\\\\n",
       "\\hline\n",
       "\t 1         & 120.79923 & 0         & 0         & 0         & ios      \\\\\n",
       "\t 2         & 175.80728 & 0         & 0         & 0         & ios      \\\\\n",
       "\t 3         & 135.02595 & 0         & 0         & 0         & ios      \\\\\n",
       "\t 4         & 166.04300 & 0         & 0         & 0         & ios      \\\\\n",
       "\t 5         &  25.20539 & 0         & 0         & 0         & ios      \\\\\n",
       "\t 6         &  19.20115 & 0         & 0         & 0         & ios      \\\\\n",
       "\\end{tabular}\n"
      ],
      "text/markdown": [
       "\n",
       "| Sample | Time | Time_prev | Event | Cost | Platform |\n",
       "|---|---|---|---|---|---|\n",
       "| 1         | 120.79923 | 0         | 0         | 0         | ios       |\n",
       "| 2         | 175.80728 | 0         | 0         | 0         | ios       |\n",
       "| 3         | 135.02595 | 0         | 0         | 0         | ios       |\n",
       "| 4         | 166.04300 | 0         | 0         | 0         | ios       |\n",
       "| 5         |  25.20539 | 0         | 0         | 0         | ios       |\n",
       "| 6         |  19.20115 | 0         | 0         | 0         | ios       |\n",
       "\n"
      ],
      "text/plain": [
       "  Sample Time      Time_prev Event Cost Platform\n",
       "1 1      120.79923 0         0     0    ios     \n",
       "2 2      175.80728 0         0     0    ios     \n",
       "3 3      135.02595 0         0     0    ios     \n",
       "4 4      166.04300 0         0     0    ios     \n",
       "5 5       25.20539 0         0     0    ios     \n",
       "6 6       19.20115 0         0     0    ios     "
      ]
     },
     "metadata": {},
     "output_type": "display_data"
    }
   ],
   "source": [
    "df <- read.table(\"tutorial/purchases_compare.csv\", header=T, sep=',')\n",
    "head(df)"
   ]
  },
  {
   "cell_type": "markdown",
   "metadata": {},
   "source": [
    "The regression model is a Cox proportional hazards model. We fit it with robust confidence intervals by defining a cluster based on the sample identifier. The model then estimates a coefficient 'exp(coef)', which is the factor by which the platform 'ios' has a higher monetization than the baseline:"
   ]
  },
  {
   "cell_type": "code",
   "execution_count": 3,
   "metadata": {},
   "outputs": [
    {
     "data": {
      "text/html": [
       "<table>\n",
       "<thead><tr><th></th><th scope=col>coef</th><th scope=col>exp(coef)</th><th scope=col>se(coef)</th><th scope=col>robust se</th><th scope=col>z</th><th scope=col>Pr(&gt;|z|)</th></tr></thead>\n",
       "<tbody>\n",
       "\t<tr><th scope=row>Platformios</th><td>0.5708377</td><td>1.769749 </td><td>0.3944417</td><td>0.3860067</td><td>1.478829 </td><td>0.1391861</td></tr>\n",
       "</tbody>\n",
       "</table>\n"
      ],
      "text/latex": [
       "\\begin{tabular}{r|llllll}\n",
       "  & coef & exp(coef) & se(coef) & robust se & z & Pr(>\\textbar{}z\\textbar{})\\\\\n",
       "\\hline\n",
       "\tPlatformios & 0.5708377 & 1.769749  & 0.3944417 & 0.3860067 & 1.478829  & 0.1391861\\\\\n",
       "\\end{tabular}\n"
      ],
      "text/markdown": [
       "\n",
       "| <!--/--> | coef | exp(coef) | se(coef) | robust se | z | Pr(>|z|) |\n",
       "|---|---|---|---|---|---|---|\n",
       "| Platformios | 0.5708377 | 1.769749  | 0.3944417 | 0.3860067 | 1.478829  | 0.1391861 |\n",
       "\n"
      ],
      "text/plain": [
       "            coef      exp(coef) se(coef)  robust se z        Pr(>|z|) \n",
       "Platformios 0.5708377 1.769749  0.3944417 0.3860067 1.478829 0.1391861"
      ]
     },
     "metadata": {},
     "output_type": "display_data"
    }
   ],
   "source": [
    "cox.robust <- coxph(Surv(Time_prev,Time,Event) ~ Platform + cluster(Sample), data=df)\n",
    "cox.results <- summary(cox.robust)\n",
    "cox.results$coefficients"
   ]
  },
  {
   "cell_type": "markdown",
   "metadata": {},
   "source": [
    "In fact, we obtain a very similar p-value:"
   ]
  },
  {
   "cell_type": "code",
   "execution_count": 4,
   "metadata": {},
   "outputs": [
    {
     "data": {
      "text/html": [
       "<strong>pvalue:</strong> 0.14369996147343"
      ],
      "text/latex": [
       "\\textbf{pvalue:} 0.14369996147343"
      ],
      "text/markdown": [
       "**pvalue:** 0.14369996147343"
      ],
      "text/plain": [
       "pvalue \n",
       "0.1437 "
      ]
     },
     "metadata": {},
     "output_type": "display_data"
    }
   ],
   "source": [
    "cox.results$robscore['pvalue']"
   ]
  },
  {
   "cell_type": "markdown",
   "metadata": {},
   "source": [
    "There can be small differences, because the regression model assumes that the hazards are proportional whereas the MCF comparison does not. "
   ]
  },
  {
   "cell_type": "markdown",
   "metadata": {},
   "source": [
    "<a id='regression1'></a>"
   ]
  },
  {
   "cell_type": "markdown",
   "metadata": {},
   "source": [
    "## Regression (purchase counts)"
   ]
  },
  {
   "cell_type": "markdown",
   "metadata": {},
   "source": [
    "In this section we fit a full regression model for the different cohorts. Every player is defined by categorical variables based on two platforms (android, ios), four countries (GB, US, AU, NL), and three difficulty levels (easy, normal, hard). We take the cohort android/GB/normal as baseline. \n",
    "\n",
    "First, load the data set:"
   ]
  },
  {
   "cell_type": "code",
   "execution_count": 5,
   "metadata": {},
   "outputs": [
    {
     "data": {
      "text/html": [
       "<table>\n",
       "<thead><tr><th scope=col>Sample</th><th scope=col>Time</th><th scope=col>Time_prev</th><th scope=col>Event</th><th scope=col>Cost</th><th scope=col>Platform</th><th scope=col>Country</th><th scope=col>Difficulty</th></tr></thead>\n",
       "<tbody>\n",
       "\t<tr><td>1        </td><td> 22.89228</td><td>0        </td><td>0        </td><td>0        </td><td>android  </td><td>GB       </td><td>easy     </td></tr>\n",
       "\t<tr><td>2        </td><td> 16.52888</td><td>0        </td><td>0        </td><td>0        </td><td>android  </td><td>GB       </td><td>easy     </td></tr>\n",
       "\t<tr><td>3        </td><td>130.66217</td><td>0        </td><td>0        </td><td>0        </td><td>android  </td><td>GB       </td><td>easy     </td></tr>\n",
       "\t<tr><td>4        </td><td>108.49709</td><td>0        </td><td>0        </td><td>0        </td><td>android  </td><td>GB       </td><td>easy     </td></tr>\n",
       "\t<tr><td>5        </td><td>117.50500</td><td>0        </td><td>0        </td><td>0        </td><td>android  </td><td>GB       </td><td>easy     </td></tr>\n",
       "\t<tr><td>6        </td><td> 83.84961</td><td>0        </td><td>0        </td><td>0        </td><td>android  </td><td>GB       </td><td>easy     </td></tr>\n",
       "</tbody>\n",
       "</table>\n"
      ],
      "text/latex": [
       "\\begin{tabular}{r|llllllll}\n",
       " Sample & Time & Time\\_prev & Event & Cost & Platform & Country & Difficulty\\\\\n",
       "\\hline\n",
       "\t 1         &  22.89228 & 0         & 0         & 0         & android   & GB        & easy     \\\\\n",
       "\t 2         &  16.52888 & 0         & 0         & 0         & android   & GB        & easy     \\\\\n",
       "\t 3         & 130.66217 & 0         & 0         & 0         & android   & GB        & easy     \\\\\n",
       "\t 4         & 108.49709 & 0         & 0         & 0         & android   & GB        & easy     \\\\\n",
       "\t 5         & 117.50500 & 0         & 0         & 0         & android   & GB        & easy     \\\\\n",
       "\t 6         &  83.84961 & 0         & 0         & 0         & android   & GB        & easy     \\\\\n",
       "\\end{tabular}\n"
      ],
      "text/markdown": [
       "\n",
       "| Sample | Time | Time_prev | Event | Cost | Platform | Country | Difficulty |\n",
       "|---|---|---|---|---|---|---|---|\n",
       "| 1         |  22.89228 | 0         | 0         | 0         | android   | GB        | easy      |\n",
       "| 2         |  16.52888 | 0         | 0         | 0         | android   | GB        | easy      |\n",
       "| 3         | 130.66217 | 0         | 0         | 0         | android   | GB        | easy      |\n",
       "| 4         | 108.49709 | 0         | 0         | 0         | android   | GB        | easy      |\n",
       "| 5         | 117.50500 | 0         | 0         | 0         | android   | GB        | easy      |\n",
       "| 6         |  83.84961 | 0         | 0         | 0         | android   | GB        | easy      |\n",
       "\n"
      ],
      "text/plain": [
       "  Sample Time      Time_prev Event Cost Platform Country Difficulty\n",
       "1 1       22.89228 0         0     0    android  GB      easy      \n",
       "2 2       16.52888 0         0     0    android  GB      easy      \n",
       "3 3      130.66217 0         0     0    android  GB      easy      \n",
       "4 4      108.49709 0         0     0    android  GB      easy      \n",
       "5 5      117.50500 0         0     0    android  GB      easy      \n",
       "6 6       83.84961 0         0     0    android  GB      easy      "
      ]
     },
     "metadata": {},
     "output_type": "display_data"
    }
   ],
   "source": [
    "df <- read.table(\"tutorial/purchases_regression.csv\", header=T, sep=',')\n",
    "df$Platform <- relevel(df$Platform, ref='android')\n",
    "df$Country <- relevel(df$Country , ref='GB')\n",
    "df$Difficulty <- relevel(df$Difficulty, ref='normal')\n",
    "head(df)"
   ]
  },
  {
   "cell_type": "markdown",
   "metadata": {},
   "source": [
    "We then fit the Cox proportional hazards model with robust confidence intervals. Every 'exp(coef)' coefficient describes the effect of this platform, country, or difficulty variable in contrast to the baseline android/GB/normal:"
   ]
  },
  {
   "cell_type": "code",
   "execution_count": 6,
   "metadata": {},
   "outputs": [
    {
     "data": {
      "text/html": [
       "<table>\n",
       "<thead><tr><th></th><th scope=col>coef</th><th scope=col>exp(coef)</th><th scope=col>se(coef)</th><th scope=col>robust se</th><th scope=col>z</th><th scope=col>Pr(&gt;|z|)</th></tr></thead>\n",
       "<tbody>\n",
       "\t<tr><th scope=row>Platformios</th><td> 0.3350040  </td><td>1.3979460   </td><td>0.1291242   </td><td>0.1428455   </td><td> 2.3452184  </td><td>1.901594e-02</td></tr>\n",
       "\t<tr><th scope=row>CountryAU</th><td> 0.8691903  </td><td>2.3849791   </td><td>0.1641834   </td><td>0.1873784   </td><td> 4.6386906  </td><td>3.506235e-06</td></tr>\n",
       "\t<tr><th scope=row>CountryNL</th><td>-0.7031034  </td><td>0.4950466   </td><td>0.2394614   </td><td>0.2515688   </td><td>-2.7948757  </td><td>5.191967e-03</td></tr>\n",
       "\t<tr><th scope=row>CountryUS</th><td>-0.1364939  </td><td>0.8724116   </td><td>0.2027273   </td><td>0.2253681   </td><td>-0.6056487  </td><td>5.447481e-01</td></tr>\n",
       "\t<tr><th scope=row>Difficultyeasy</th><td>-0.3264905  </td><td>0.7214512   </td><td>0.1562992   </td><td>0.1766487   </td><td>-1.8482475  </td><td>6.456654e-02</td></tr>\n",
       "\t<tr><th scope=row>Difficultyhard</th><td>-0.2427894  </td><td>0.7844367   </td><td>0.1510550   </td><td>0.1653612   </td><td>-1.4682371  </td><td>1.420398e-01</td></tr>\n",
       "</tbody>\n",
       "</table>\n"
      ],
      "text/latex": [
       "\\begin{tabular}{r|llllll}\n",
       "  & coef & exp(coef) & se(coef) & robust se & z & Pr(>\\textbar{}z\\textbar{})\\\\\n",
       "\\hline\n",
       "\tPlatformios &  0.3350040   & 1.3979460    & 0.1291242    & 0.1428455    &  2.3452184   & 1.901594e-02\\\\\n",
       "\tCountryAU &  0.8691903   & 2.3849791    & 0.1641834    & 0.1873784    &  4.6386906   & 3.506235e-06\\\\\n",
       "\tCountryNL & -0.7031034   & 0.4950466    & 0.2394614    & 0.2515688    & -2.7948757   & 5.191967e-03\\\\\n",
       "\tCountryUS & -0.1364939   & 0.8724116    & 0.2027273    & 0.2253681    & -0.6056487   & 5.447481e-01\\\\\n",
       "\tDifficultyeasy & -0.3264905   & 0.7214512    & 0.1562992    & 0.1766487    & -1.8482475   & 6.456654e-02\\\\\n",
       "\tDifficultyhard & -0.2427894   & 0.7844367    & 0.1510550    & 0.1653612    & -1.4682371   & 1.420398e-01\\\\\n",
       "\\end{tabular}\n"
      ],
      "text/markdown": [
       "\n",
       "| <!--/--> | coef | exp(coef) | se(coef) | robust se | z | Pr(>|z|) |\n",
       "|---|---|---|---|---|---|---|\n",
       "| Platformios |  0.3350040   | 1.3979460    | 0.1291242    | 0.1428455    |  2.3452184   | 1.901594e-02 |\n",
       "| CountryAU |  0.8691903   | 2.3849791    | 0.1641834    | 0.1873784    |  4.6386906   | 3.506235e-06 |\n",
       "| CountryNL | -0.7031034   | 0.4950466    | 0.2394614    | 0.2515688    | -2.7948757   | 5.191967e-03 |\n",
       "| CountryUS | -0.1364939   | 0.8724116    | 0.2027273    | 0.2253681    | -0.6056487   | 5.447481e-01 |\n",
       "| Difficultyeasy | -0.3264905   | 0.7214512    | 0.1562992    | 0.1766487    | -1.8482475   | 6.456654e-02 |\n",
       "| Difficultyhard | -0.2427894   | 0.7844367    | 0.1510550    | 0.1653612    | -1.4682371   | 1.420398e-01 |\n",
       "\n"
      ],
      "text/plain": [
       "               coef       exp(coef) se(coef)  robust se z          Pr(>|z|)    \n",
       "Platformios     0.3350040 1.3979460 0.1291242 0.1428455  2.3452184 1.901594e-02\n",
       "CountryAU       0.8691903 2.3849791 0.1641834 0.1873784  4.6386906 3.506235e-06\n",
       "CountryNL      -0.7031034 0.4950466 0.2394614 0.2515688 -2.7948757 5.191967e-03\n",
       "CountryUS      -0.1364939 0.8724116 0.2027273 0.2253681 -0.6056487 5.447481e-01\n",
       "Difficultyeasy -0.3264905 0.7214512 0.1562992 0.1766487 -1.8482475 6.456654e-02\n",
       "Difficultyhard -0.2427894 0.7844367 0.1510550 0.1653612 -1.4682371 1.420398e-01"
      ]
     },
     "metadata": {},
     "output_type": "display_data"
    }
   ],
   "source": [
    "cox.robust <- coxph(Surv(Time_prev,Time,Event) ~ Platform + Country + Difficulty + cluster(Sample), data=df)\n",
    "cox.results <- summary(cox.robust)\n",
    "cox.results$coefficients"
   ]
  },
  {
   "cell_type": "markdown",
   "metadata": {},
   "source": [
    "The results are reasonably close to the true values. Remember that we generated the data by assuming that the baseline rate is multiplied as follows:\n",
    "\n",
    "```\n",
    "Platform = ios | 1.5\n",
    "Country = AU | 2.0\n",
    "Country = NL | 0.5\n",
    "Country = US | 1.0\n",
    "Difficulty = easy | 0.95\n",
    "Difficulty = hard | 0.95\n",
    "```\n",
    "\n",
    "\n",
    "The 'forestplot' package can be used to visualize the cofficients and their confidence intervals:"
   ]
  },
  {
   "cell_type": "code",
   "execution_count": 7,
   "metadata": {},
   "outputs": [
    {
     "data": {
      "image/png": "[encoded data removed]",
      "text/plain": [
       "plot without title"
      ]
     },
     "metadata": {},
     "output_type": "display_data"
    }
   ],
   "source": [
    "coef <- cox.results$coefficients[,'coef']\n",
    "se <- cox.results$coefficients[,'robust se']\n",
    "mean <- exp(coef)\n",
    "ci.lower <- exp(coef - 1.96*se)\n",
    "ci.upper <- exp(coef + 1.96*se)\n",
    "options(repr.plot.width = 6, repr.plot.height = 2)\n",
    "p3x <- forestplot(df.plot <- cbind(names(coef), sprintf(\"%.2f (%.2f, %.2f)\", mean, ci.lower, ci.upper)),\n",
    "                  mean=mean, lower=ci.lower, upper=ci.upper, xlog=T, xlab=\"Ratio\",\n",
    "                  boxsize=0.25, fn.ci_norm = fpDrawCircleCI, lty.ci=2, col=fpColors(box=c(\"black\"), lines=c(\"black\")),\n",
    "                  txt_gp=fpTxtGp(label=gpar(cex=1.0), ticks=gpar(cex=0.8), xlab=gpar(cex=1.0))\n",
    ")"
   ]
  },
  {
   "cell_type": "markdown",
   "metadata": {},
   "source": [
    "Finally, we predict the expected number of sessions in each cohort and save them to the file 'purchases_regression_predict.csv'. This file is used to visualize the predictions in the Python MCF tutorial:"
   ]
  },
  {
   "cell_type": "code",
   "execution_count": 8,
   "metadata": {},
   "outputs": [],
   "source": [
    "results = list()\n",
    "t = sort(unique(df$Time))\n",
    "for (platform in levels(df$Platform)) {\n",
    "  for (country in levels(df$Country)) {\n",
    "    for (difficulty in levels(df$Difficulty)) {\n",
    "      cohort = paste(c(platform, country, difficulty), collapse=', ' )\n",
    "      fr = data.frame(Time_prev=0, Time=t, Event=0, Platform=platform, Country=country, Difficulty=difficulty)\n",
    "      reg = predict(cox.robust, newdata=fr, type='expected', se.fit=T)\n",
    "      fr$N = reg$fit\n",
    "      fr$N.var = reg$se.fit**2\n",
    "      results[[cohort]] = fr[c('Time', 'N', 'N.var', 'Platform', 'Country', 'Difficulty')]\n",
    "    }\n",
    "  }\n",
    "}\n",
    "results = do.call(\"rbind\", results)\n",
    "write.table(results, 'tutorial/purchases_regression_predict.csv', row.names=F, sep=',')"
   ]
  },
  {
   "cell_type": "markdown",
   "metadata": {},
   "source": [
    "<a id='regression2'></a>"
   ]
  },
  {
   "cell_type": "markdown",
   "metadata": {},
   "source": [
    "## Regression (purchase amounts)"
   ]
  },
  {
   "cell_type": "markdown",
   "metadata": {},
   "source": [
    "We fit the standard least squares regression model to the purchase amounts. We could fit one with robust confidence intervals by using the Generalized Estimating Equation (GEE) model, but this should not make a large difference because there is no correlation between i.i.d. purchases. Every 'exp(coef)' coefficient describes the effect of this platform, country, or difficulty variable in contrast to the baseline android/GB/normal:"
   ]
  },
  {
   "cell_type": "code",
   "execution_count": 9,
   "metadata": {},
   "outputs": [
    {
     "data": {
      "text/html": [
       "<table>\n",
       "<thead><tr><th></th><th scope=col>Estimate</th><th scope=col>Std. Error</th><th scope=col>t value</th><th scope=col>Pr(&gt;|t|)</th></tr></thead>\n",
       "<tbody>\n",
       "\t<tr><th scope=row>(Intercept)</th><td> 2.09383411 </td><td>0.4878614   </td><td> 4.29186234 </td><td>2.567961e-05</td></tr>\n",
       "\t<tr><th scope=row>Platformios</th><td> 0.14843481 </td><td>0.3467008   </td><td> 0.42813516 </td><td>6.689351e-01</td></tr>\n",
       "\t<tr><th scope=row>CountryAU</th><td> 0.01744121 </td><td>0.4355157   </td><td> 0.04004726 </td><td>9.680886e-01</td></tr>\n",
       "\t<tr><th scope=row>CountryNL</th><td>-0.16449206 </td><td>0.6348783   </td><td>-0.25909226 </td><td>7.957852e-01</td></tr>\n",
       "\t<tr><th scope=row>CountryUS</th><td>-0.37985888 </td><td>0.5418329   </td><td>-0.70106280 </td><td>4.839402e-01</td></tr>\n",
       "\t<tr><th scope=row>Difficultyeasy</th><td>-0.21171176 </td><td>0.4155938   </td><td>-0.50941987 </td><td>6.109241e-01</td></tr>\n",
       "\t<tr><th scope=row>Difficultyhard</th><td>-0.17128843 </td><td>0.4027463   </td><td>-0.42530109 </td><td>6.709967e-01</td></tr>\n",
       "</tbody>\n",
       "</table>\n"
      ],
      "text/latex": [
       "\\begin{tabular}{r|llll}\n",
       "  & Estimate & Std. Error & t value & Pr(>\\textbar{}t\\textbar{})\\\\\n",
       "\\hline\n",
       "\t(Intercept) &  2.09383411  & 0.4878614    &  4.29186234  & 2.567961e-05\\\\\n",
       "\tPlatformios &  0.14843481  & 0.3467008    &  0.42813516  & 6.689351e-01\\\\\n",
       "\tCountryAU &  0.01744121  & 0.4355157    &  0.04004726  & 9.680886e-01\\\\\n",
       "\tCountryNL & -0.16449206  & 0.6348783    & -0.25909226  & 7.957852e-01\\\\\n",
       "\tCountryUS & -0.37985888  & 0.5418329    & -0.70106280  & 4.839402e-01\\\\\n",
       "\tDifficultyeasy & -0.21171176  & 0.4155938    & -0.50941987  & 6.109241e-01\\\\\n",
       "\tDifficultyhard & -0.17128843  & 0.4027463    & -0.42530109  & 6.709967e-01\\\\\n",
       "\\end{tabular}\n"
      ],
      "text/markdown": [
       "\n",
       "| <!--/--> | Estimate | Std. Error | t value | Pr(>|t|) |\n",
       "|---|---|---|---|---|\n",
       "| (Intercept) |  2.09383411  | 0.4878614    |  4.29186234  | 2.567961e-05 |\n",
       "| Platformios |  0.14843481  | 0.3467008    |  0.42813516  | 6.689351e-01 |\n",
       "| CountryAU |  0.01744121  | 0.4355157    |  0.04004726  | 9.680886e-01 |\n",
       "| CountryNL | -0.16449206  | 0.6348783    | -0.25909226  | 7.957852e-01 |\n",
       "| CountryUS | -0.37985888  | 0.5418329    | -0.70106280  | 4.839402e-01 |\n",
       "| Difficultyeasy | -0.21171176  | 0.4155938    | -0.50941987  | 6.109241e-01 |\n",
       "| Difficultyhard | -0.17128843  | 0.4027463    | -0.42530109  | 6.709967e-01 |\n",
       "\n"
      ],
      "text/plain": [
       "               Estimate    Std. Error t value     Pr(>|t|)    \n",
       "(Intercept)     2.09383411 0.4878614   4.29186234 2.567961e-05\n",
       "Platformios     0.14843481 0.3467008   0.42813516 6.689351e-01\n",
       "CountryAU       0.01744121 0.4355157   0.04004726 9.680886e-01\n",
       "CountryNL      -0.16449206 0.6348783  -0.25909226 7.957852e-01\n",
       "CountryUS      -0.37985888 0.5418329  -0.70106280 4.839402e-01\n",
       "Difficultyeasy -0.21171176 0.4155938  -0.50941987 6.109241e-01\n",
       "Difficultyhard -0.17128843 0.4027463  -0.42530109 6.709967e-01"
      ]
     },
     "metadata": {},
     "output_type": "display_data"
    }
   ],
   "source": [
    "#Robust regression\n",
    "#lsq.robust <- gee(Cost ~ Platform + Country + Difficulty, id=Sample, data=df, subset=(df$Event == 1),\n",
    "#                  family = gaussian, corstr = \"independence\")\n",
    "\n",
    "#Standard regression\n",
    "lsq <- lm(Cost ~ Platform + Country + Difficulty, data=df, subset=(df$Event == 1))\n",
    "lsq.results <- summary(lsq)\n",
    "lsq.results$coefficients"
   ]
  },
  {
   "cell_type": "markdown",
   "metadata": {},
   "source": [
    "Remember that we generated the data by assuming that the purchase amounts do not vary by cohort. We should therefore obtain an intercept of around 2.00 and coefficients of around 0.00. This is again quite close to the actual results.\n",
    "\n",
    "The 'forestplot' package can again be used to visualize the cofficients and their confidence intervals:"
   ]
  },
  {
   "cell_type": "code",
   "execution_count": 10,
   "metadata": {},
   "outputs": [
    {
     "data": {
      "image/png": "[encoded data removed]",
      "text/plain": [
       "plot without title"
      ]
     },
     "metadata": {},
     "output_type": "display_data"
    }
   ],
   "source": [
    "coef <- lsq.results$coefficients[,'Estimate']\n",
    "se <- lsq.results$coefficients[,'Std. Error']\n",
    "mean <- coef\n",
    "ci.lower <- coef - 1.96*se\n",
    "ci.upper <- coef + 1.96*se\n",
    "p3x <- forestplot(df.plot <- cbind(names(coef), sprintf(\"%.2f (%.2f, %.2f)\", mean, ci.lower, ci.upper)),\n",
    "                  mean=mean, lower=ci.lower, upper=ci.upper, xlog=F, xlab=\"Effect\",\n",
    "                  boxsize=0.25, fn.ci_norm = fpDrawCircleCI, lty.ci=2, col=fpColors(box=c(\"black\"), lines=c(\"black\")),\n",
    "                  txt_gp=fpTxtGp(label=gpar(cex=1.0), ticks=gpar(cex=0.8), xlab=gpar(cex=1.0))\n",
    ")"
   ]
  },
  {
   "cell_type": "markdown",
   "metadata": {},
   "source": [
    "Finally, we predict the expected purchase amounts in each cohort and save them to the file 'purchases_regression_amount.csv'. This file is used to visualize the predictions in the Python MCF tutorial:"
   ]
  },
  {
   "cell_type": "code",
   "execution_count": 11,
   "metadata": {},
   "outputs": [],
   "source": [
    "results = list()\n",
    "t = sort(unique(df$Time))\n",
    "for (platform in levels(df$Platform)) {\n",
    "  for (country in levels(df$Country)) {\n",
    "    for (difficulty in levels(df$Difficulty)) {\n",
    "      cohort = paste(c(platform, country, difficulty), collapse=', ' )\n",
    "      fr = data.frame(Platform=platform, Country=country, Difficulty=difficulty)\n",
    "      reg = predict(lsq, newdata=fr, se.fit=T)\n",
    "      fr$E = reg$fit\n",
    "      fr$E.var = reg$se.fit**2\n",
    "      results[[cohort]] = fr[c('E', 'E.var', 'Platform', 'Country', 'Difficulty')]\n",
    "    }\n",
    "  }\n",
    "}\n",
    "results = do.call(\"rbind\", results)\n",
    "write.table(results, 'tutorial/purchases_regression_amount.csv', row.names=F, sep=',')"
   ]
  },
  {
   "cell_type": "markdown",
   "metadata": {},
   "source": [
    "<a id='extrapolation'></a>"
   ]
  },
  {
   "cell_type": "markdown",
   "metadata": {},
   "source": [
    "## Extrapolation (purchase counts)"
   ]
  },
  {
   "cell_type": "markdown",
   "metadata": {},
   "source": [
    "In this section we fit the Cox proportional hazards regression model for the 'new' and 'old' game versions. The 'old' version is used as a baseline.\n",
    "\n",
    "First, load the data set:"
   ]
  },
  {
   "cell_type": "code",
   "execution_count": 12,
   "metadata": {},
   "outputs": [],
   "source": [
    "df <- read.table(\"tutorial/purchases_extrapolate.csv\", header=T, sep=',')\n",
    "df$Version <- relevel(df$Version , ref='old')"
   ]
  },
  {
   "cell_type": "markdown",
   "metadata": {},
   "source": [
    "We then fit the Cox proportional hazards model with robust confidence intervals. The 'exp(coef)' coefficient describes the effect of the 'new' version in relation to the old. It is hypothesized that the 'new' version has an expected number of purchases curve which is proportional, i.e. the same as the 'old' $E[N(t)]$ curve multiplied exp(coef) coefficient. This fact is used to extrapolate the purchase amounts in the new version:"
   ]
  },
  {
   "cell_type": "code",
   "execution_count": 13,
   "metadata": {},
   "outputs": [
    {
     "data": {
      "text/html": [
       "<table>\n",
       "<thead><tr><th></th><th scope=col>coef</th><th scope=col>exp(coef)</th><th scope=col>se(coef)</th><th scope=col>robust se</th><th scope=col>z</th><th scope=col>Pr(&gt;|z|)</th></tr></thead>\n",
       "<tbody>\n",
       "\t<tr><th scope=row>Versionnew</th><td>0.2598559</td><td>1.296743 </td><td>0.3495266</td><td>0.3539431</td><td>0.7341743</td><td>0.4628425</td></tr>\n",
       "</tbody>\n",
       "</table>\n"
      ],
      "text/latex": [
       "\\begin{tabular}{r|llllll}\n",
       "  & coef & exp(coef) & se(coef) & robust se & z & Pr(>\\textbar{}z\\textbar{})\\\\\n",
       "\\hline\n",
       "\tVersionnew & 0.2598559 & 1.296743  & 0.3495266 & 0.3539431 & 0.7341743 & 0.4628425\\\\\n",
       "\\end{tabular}\n"
      ],
      "text/markdown": [
       "\n",
       "| <!--/--> | coef | exp(coef) | se(coef) | robust se | z | Pr(>|z|) |\n",
       "|---|---|---|---|---|---|---|\n",
       "| Versionnew | 0.2598559 | 1.296743  | 0.3495266 | 0.3539431 | 0.7341743 | 0.4628425 |\n",
       "\n"
      ],
      "text/plain": [
       "           coef      exp(coef) se(coef)  robust se z         Pr(>|z|) \n",
       "Versionnew 0.2598559 1.296743  0.3495266 0.3539431 0.7341743 0.4628425"
      ]
     },
     "metadata": {},
     "output_type": "display_data"
    }
   ],
   "source": [
    "cox.robust <- coxph(Surv(Time_prev,Time,Event) ~Version + cluster(Sample), data=df)\n",
    "cox.results <- summary(cox.robust)\n",
    "cox.results$coefficients"
   ]
  },
  {
   "cell_type": "markdown",
   "metadata": {},
   "source": [
    "Finally, we predict the expected number of sessions in each cohort and save them to the file 'purchases_extrapolate_predict.csv'. This file is used to visualize the predictions in the Python MCF tutorial:"
   ]
  },
  {
   "cell_type": "code",
   "execution_count": 14,
   "metadata": {},
   "outputs": [],
   "source": [
    "results = list()\n",
    "t = sort(unique(df$Time))\n",
    "for (version in levels(df$Version)) {\n",
    "  fr = data.frame(Time_prev=0, Time=t, Event=0, Version=version)\n",
    "  reg = predict(cox.robust, newdata=fr, type='expected', se.fit=T)\n",
    "  fr$N = reg$fit\n",
    "  fr$N.var = reg$se.fit**2\n",
    "  results[[version]] = fr[c('Time', 'N', 'N.var', 'Version')]\n",
    "}\n",
    "results = do.call(\"rbind\", results)\n",
    "write.table(results, 'tutorial/purchases_extrapolate_predict.csv', row.names=F, sep=',')"
   ]
  },
  {
   "cell_type": "markdown",
   "metadata": {},
   "source": [
    "<a id='conclusion'></a>"
   ]
  },
  {
   "cell_type": "markdown",
   "metadata": {},
   "source": [
    "## Conclusion"
   ]
  },
  {
   "cell_type": "markdown",
   "metadata": {},
   "source": [
    "Thats all. Now open the Python MCF tutorial to see additional visualizations of the results."
   ]
  }
 ],
 "metadata": {
  "kernelspec": {
   "display_name": "R",
   "language": "R",
   "name": "ir"
  },
  "language_info": {
   "codemirror_mode": "r",
   "file_extension": ".r",
   "mimetype": "text/x-r-source",
   "name": "R",
   "pygments_lexer": "r",
   "version": "3.6.1"
  }
 },
 "nbformat": 4,
 "nbformat_minor": 2
}
